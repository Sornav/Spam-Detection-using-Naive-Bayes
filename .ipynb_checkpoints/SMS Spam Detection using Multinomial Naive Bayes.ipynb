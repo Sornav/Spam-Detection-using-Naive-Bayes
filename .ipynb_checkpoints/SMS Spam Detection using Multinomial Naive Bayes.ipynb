{
 "cells": [
  {
   "cell_type": "code",
   "execution_count": 67,
   "metadata": {},
   "outputs": [],
   "source": [
    "import numpy as np\n",
    "import pandas as pd\n",
    "import matplotlib.pyplot as plt\n",
    "from sklearn import feature_extraction, model_selection, naive_bayes, metrics\n"
   ]
  },
  {
   "cell_type": "code",
   "execution_count": 21,
   "metadata": {},
   "outputs": [
    {
     "data": {
      "text/html": [
       "<div>\n",
       "<style scoped>\n",
       "    .dataframe tbody tr th:only-of-type {\n",
       "        vertical-align: middle;\n",
       "    }\n",
       "\n",
       "    .dataframe tbody tr th {\n",
       "        vertical-align: top;\n",
       "    }\n",
       "\n",
       "    .dataframe thead th {\n",
       "        text-align: right;\n",
       "    }\n",
       "</style>\n",
       "<table border=\"1\" class=\"dataframe\">\n",
       "  <thead>\n",
       "    <tr style=\"text-align: right;\">\n",
       "      <th></th>\n",
       "      <th>v1</th>\n",
       "      <th>v2</th>\n",
       "      <th>Unnamed: 2</th>\n",
       "      <th>Unnamed: 3</th>\n",
       "      <th>Unnamed: 4</th>\n",
       "    </tr>\n",
       "  </thead>\n",
       "  <tbody>\n",
       "    <tr>\n",
       "      <th>0</th>\n",
       "      <td>ham</td>\n",
       "      <td>Go until jurong point, crazy.. Available only ...</td>\n",
       "      <td>NaN</td>\n",
       "      <td>NaN</td>\n",
       "      <td>NaN</td>\n",
       "    </tr>\n",
       "    <tr>\n",
       "      <th>1</th>\n",
       "      <td>ham</td>\n",
       "      <td>Ok lar... Joking wif u oni...</td>\n",
       "      <td>NaN</td>\n",
       "      <td>NaN</td>\n",
       "      <td>NaN</td>\n",
       "    </tr>\n",
       "    <tr>\n",
       "      <th>2</th>\n",
       "      <td>spam</td>\n",
       "      <td>Free entry in 2 a wkly comp to win FA Cup fina...</td>\n",
       "      <td>NaN</td>\n",
       "      <td>NaN</td>\n",
       "      <td>NaN</td>\n",
       "    </tr>\n",
       "    <tr>\n",
       "      <th>3</th>\n",
       "      <td>ham</td>\n",
       "      <td>U dun say so early hor... U c already then say...</td>\n",
       "      <td>NaN</td>\n",
       "      <td>NaN</td>\n",
       "      <td>NaN</td>\n",
       "    </tr>\n",
       "    <tr>\n",
       "      <th>4</th>\n",
       "      <td>ham</td>\n",
       "      <td>Nah I don't think he goes to usf, he lives aro...</td>\n",
       "      <td>NaN</td>\n",
       "      <td>NaN</td>\n",
       "      <td>NaN</td>\n",
       "    </tr>\n",
       "    <tr>\n",
       "      <th>5</th>\n",
       "      <td>spam</td>\n",
       "      <td>FreeMsg Hey there darling it's been 3 week's n...</td>\n",
       "      <td>NaN</td>\n",
       "      <td>NaN</td>\n",
       "      <td>NaN</td>\n",
       "    </tr>\n",
       "    <tr>\n",
       "      <th>6</th>\n",
       "      <td>ham</td>\n",
       "      <td>Even my brother is not like to speak with me. ...</td>\n",
       "      <td>NaN</td>\n",
       "      <td>NaN</td>\n",
       "      <td>NaN</td>\n",
       "    </tr>\n",
       "    <tr>\n",
       "      <th>7</th>\n",
       "      <td>ham</td>\n",
       "      <td>As per your request 'Melle Melle (Oru Minnamin...</td>\n",
       "      <td>NaN</td>\n",
       "      <td>NaN</td>\n",
       "      <td>NaN</td>\n",
       "    </tr>\n",
       "    <tr>\n",
       "      <th>8</th>\n",
       "      <td>spam</td>\n",
       "      <td>WINNER!! As a valued network customer you have...</td>\n",
       "      <td>NaN</td>\n",
       "      <td>NaN</td>\n",
       "      <td>NaN</td>\n",
       "    </tr>\n",
       "    <tr>\n",
       "      <th>9</th>\n",
       "      <td>spam</td>\n",
       "      <td>Had your mobile 11 months or more? U R entitle...</td>\n",
       "      <td>NaN</td>\n",
       "      <td>NaN</td>\n",
       "      <td>NaN</td>\n",
       "    </tr>\n",
       "    <tr>\n",
       "      <th>10</th>\n",
       "      <td>ham</td>\n",
       "      <td>I'm gonna be home soon and i don't want to tal...</td>\n",
       "      <td>NaN</td>\n",
       "      <td>NaN</td>\n",
       "      <td>NaN</td>\n",
       "    </tr>\n",
       "    <tr>\n",
       "      <th>11</th>\n",
       "      <td>spam</td>\n",
       "      <td>SIX chances to win CASH! From 100 to 20,000 po...</td>\n",
       "      <td>NaN</td>\n",
       "      <td>NaN</td>\n",
       "      <td>NaN</td>\n",
       "    </tr>\n",
       "    <tr>\n",
       "      <th>12</th>\n",
       "      <td>spam</td>\n",
       "      <td>URGENT! You have won a 1 week FREE membership ...</td>\n",
       "      <td>NaN</td>\n",
       "      <td>NaN</td>\n",
       "      <td>NaN</td>\n",
       "    </tr>\n",
       "    <tr>\n",
       "      <th>13</th>\n",
       "      <td>ham</td>\n",
       "      <td>I've been searching for the right words to tha...</td>\n",
       "      <td>NaN</td>\n",
       "      <td>NaN</td>\n",
       "      <td>NaN</td>\n",
       "    </tr>\n",
       "    <tr>\n",
       "      <th>14</th>\n",
       "      <td>ham</td>\n",
       "      <td>I HAVE A DATE ON SUNDAY WITH WILL!!</td>\n",
       "      <td>NaN</td>\n",
       "      <td>NaN</td>\n",
       "      <td>NaN</td>\n",
       "    </tr>\n",
       "    <tr>\n",
       "      <th>15</th>\n",
       "      <td>spam</td>\n",
       "      <td>XXXMobileMovieClub: To use your credit, click ...</td>\n",
       "      <td>NaN</td>\n",
       "      <td>NaN</td>\n",
       "      <td>NaN</td>\n",
       "    </tr>\n",
       "    <tr>\n",
       "      <th>16</th>\n",
       "      <td>ham</td>\n",
       "      <td>Oh k...i'm watching here:)</td>\n",
       "      <td>NaN</td>\n",
       "      <td>NaN</td>\n",
       "      <td>NaN</td>\n",
       "    </tr>\n",
       "    <tr>\n",
       "      <th>17</th>\n",
       "      <td>ham</td>\n",
       "      <td>Eh u remember how 2 spell his name... Yes i di...</td>\n",
       "      <td>NaN</td>\n",
       "      <td>NaN</td>\n",
       "      <td>NaN</td>\n",
       "    </tr>\n",
       "    <tr>\n",
       "      <th>18</th>\n",
       "      <td>ham</td>\n",
       "      <td>Fine if thatåÕs the way u feel. ThatåÕs the wa...</td>\n",
       "      <td>NaN</td>\n",
       "      <td>NaN</td>\n",
       "      <td>NaN</td>\n",
       "    </tr>\n",
       "    <tr>\n",
       "      <th>19</th>\n",
       "      <td>spam</td>\n",
       "      <td>England v Macedonia - dont miss the goals/team...</td>\n",
       "      <td>NaN</td>\n",
       "      <td>NaN</td>\n",
       "      <td>NaN</td>\n",
       "    </tr>\n",
       "  </tbody>\n",
       "</table>\n",
       "</div>"
      ],
      "text/plain": [
       "      v1                                                 v2 Unnamed: 2  \\\n",
       "0    ham  Go until jurong point, crazy.. Available only ...        NaN   \n",
       "1    ham                      Ok lar... Joking wif u oni...        NaN   \n",
       "2   spam  Free entry in 2 a wkly comp to win FA Cup fina...        NaN   \n",
       "3    ham  U dun say so early hor... U c already then say...        NaN   \n",
       "4    ham  Nah I don't think he goes to usf, he lives aro...        NaN   \n",
       "5   spam  FreeMsg Hey there darling it's been 3 week's n...        NaN   \n",
       "6    ham  Even my brother is not like to speak with me. ...        NaN   \n",
       "7    ham  As per your request 'Melle Melle (Oru Minnamin...        NaN   \n",
       "8   spam  WINNER!! As a valued network customer you have...        NaN   \n",
       "9   spam  Had your mobile 11 months or more? U R entitle...        NaN   \n",
       "10   ham  I'm gonna be home soon and i don't want to tal...        NaN   \n",
       "11  spam  SIX chances to win CASH! From 100 to 20,000 po...        NaN   \n",
       "12  spam  URGENT! You have won a 1 week FREE membership ...        NaN   \n",
       "13   ham  I've been searching for the right words to tha...        NaN   \n",
       "14   ham                I HAVE A DATE ON SUNDAY WITH WILL!!        NaN   \n",
       "15  spam  XXXMobileMovieClub: To use your credit, click ...        NaN   \n",
       "16   ham                         Oh k...i'm watching here:)        NaN   \n",
       "17   ham  Eh u remember how 2 spell his name... Yes i di...        NaN   \n",
       "18   ham  Fine if thatåÕs the way u feel. ThatåÕs the wa...        NaN   \n",
       "19  spam  England v Macedonia - dont miss the goals/team...        NaN   \n",
       "\n",
       "   Unnamed: 3 Unnamed: 4  \n",
       "0         NaN        NaN  \n",
       "1         NaN        NaN  \n",
       "2         NaN        NaN  \n",
       "3         NaN        NaN  \n",
       "4         NaN        NaN  \n",
       "5         NaN        NaN  \n",
       "6         NaN        NaN  \n",
       "7         NaN        NaN  \n",
       "8         NaN        NaN  \n",
       "9         NaN        NaN  \n",
       "10        NaN        NaN  \n",
       "11        NaN        NaN  \n",
       "12        NaN        NaN  \n",
       "13        NaN        NaN  \n",
       "14        NaN        NaN  \n",
       "15        NaN        NaN  \n",
       "16        NaN        NaN  \n",
       "17        NaN        NaN  \n",
       "18        NaN        NaN  \n",
       "19        NaN        NaN  "
      ]
     },
     "execution_count": 21,
     "metadata": {},
     "output_type": "execute_result"
    }
   ],
   "source": [
    "dataset = pd.read_csv('spam.csv',encoding='latin-1')##importing the spam dataset\n",
    "dataset.head(n=20)\n"
   ]
  },
  {
   "cell_type": "markdown",
   "metadata": {},
   "source": [
    "Let us Visualize our data,I have used Plotly"
   ]
  },
  {
   "cell_type": "code",
   "execution_count": 27,
   "metadata": {},
   "outputs": [
    {
     "data": {
      "application/vnd.plotly.v1+json": {
       "config": {
        "linkText": "Export to plot.ly",
        "plotlyServerURL": "https://plot.ly",
        "showLink": false
       },
       "data": [
        {
         "type": "bar",
         "x": [
          "NONSPAM",
          "SPAM"
         ],
         "y": [
          4825,
          747
         ]
        }
       ],
       "layout": {
        "template": {
         "data": {
          "bar": [
           {
            "error_x": {
             "color": "#2a3f5f"
            },
            "error_y": {
             "color": "#2a3f5f"
            },
            "marker": {
             "line": {
              "color": "#E5ECF6",
              "width": 0.5
             }
            },
            "type": "bar"
           }
          ],
          "barpolar": [
           {
            "marker": {
             "line": {
              "color": "#E5ECF6",
              "width": 0.5
             }
            },
            "type": "barpolar"
           }
          ],
          "carpet": [
           {
            "aaxis": {
             "endlinecolor": "#2a3f5f",
             "gridcolor": "white",
             "linecolor": "white",
             "minorgridcolor": "white",
             "startlinecolor": "#2a3f5f"
            },
            "baxis": {
             "endlinecolor": "#2a3f5f",
             "gridcolor": "white",
             "linecolor": "white",
             "minorgridcolor": "white",
             "startlinecolor": "#2a3f5f"
            },
            "type": "carpet"
           }
          ],
          "choropleth": [
           {
            "colorbar": {
             "outlinewidth": 0,
             "ticks": ""
            },
            "type": "choropleth"
           }
          ],
          "contour": [
           {
            "colorbar": {
             "outlinewidth": 0,
             "ticks": ""
            },
            "colorscale": [
             [
              0,
              "#0d0887"
             ],
             [
              0.1111111111111111,
              "#46039f"
             ],
             [
              0.2222222222222222,
              "#7201a8"
             ],
             [
              0.3333333333333333,
              "#9c179e"
             ],
             [
              0.4444444444444444,
              "#bd3786"
             ],
             [
              0.5555555555555556,
              "#d8576b"
             ],
             [
              0.6666666666666666,
              "#ed7953"
             ],
             [
              0.7777777777777778,
              "#fb9f3a"
             ],
             [
              0.8888888888888888,
              "#fdca26"
             ],
             [
              1,
              "#f0f921"
             ]
            ],
            "type": "contour"
           }
          ],
          "contourcarpet": [
           {
            "colorbar": {
             "outlinewidth": 0,
             "ticks": ""
            },
            "type": "contourcarpet"
           }
          ],
          "heatmap": [
           {
            "colorbar": {
             "outlinewidth": 0,
             "ticks": ""
            },
            "colorscale": [
             [
              0,
              "#0d0887"
             ],
             [
              0.1111111111111111,
              "#46039f"
             ],
             [
              0.2222222222222222,
              "#7201a8"
             ],
             [
              0.3333333333333333,
              "#9c179e"
             ],
             [
              0.4444444444444444,
              "#bd3786"
             ],
             [
              0.5555555555555556,
              "#d8576b"
             ],
             [
              0.6666666666666666,
              "#ed7953"
             ],
             [
              0.7777777777777778,
              "#fb9f3a"
             ],
             [
              0.8888888888888888,
              "#fdca26"
             ],
             [
              1,
              "#f0f921"
             ]
            ],
            "type": "heatmap"
           }
          ],
          "heatmapgl": [
           {
            "colorbar": {
             "outlinewidth": 0,
             "ticks": ""
            },
            "colorscale": [
             [
              0,
              "#0d0887"
             ],
             [
              0.1111111111111111,
              "#46039f"
             ],
             [
              0.2222222222222222,
              "#7201a8"
             ],
             [
              0.3333333333333333,
              "#9c179e"
             ],
             [
              0.4444444444444444,
              "#bd3786"
             ],
             [
              0.5555555555555556,
              "#d8576b"
             ],
             [
              0.6666666666666666,
              "#ed7953"
             ],
             [
              0.7777777777777778,
              "#fb9f3a"
             ],
             [
              0.8888888888888888,
              "#fdca26"
             ],
             [
              1,
              "#f0f921"
             ]
            ],
            "type": "heatmapgl"
           }
          ],
          "histogram": [
           {
            "marker": {
             "colorbar": {
              "outlinewidth": 0,
              "ticks": ""
             }
            },
            "type": "histogram"
           }
          ],
          "histogram2d": [
           {
            "colorbar": {
             "outlinewidth": 0,
             "ticks": ""
            },
            "colorscale": [
             [
              0,
              "#0d0887"
             ],
             [
              0.1111111111111111,
              "#46039f"
             ],
             [
              0.2222222222222222,
              "#7201a8"
             ],
             [
              0.3333333333333333,
              "#9c179e"
             ],
             [
              0.4444444444444444,
              "#bd3786"
             ],
             [
              0.5555555555555556,
              "#d8576b"
             ],
             [
              0.6666666666666666,
              "#ed7953"
             ],
             [
              0.7777777777777778,
              "#fb9f3a"
             ],
             [
              0.8888888888888888,
              "#fdca26"
             ],
             [
              1,
              "#f0f921"
             ]
            ],
            "type": "histogram2d"
           }
          ],
          "histogram2dcontour": [
           {
            "colorbar": {
             "outlinewidth": 0,
             "ticks": ""
            },
            "colorscale": [
             [
              0,
              "#0d0887"
             ],
             [
              0.1111111111111111,
              "#46039f"
             ],
             [
              0.2222222222222222,
              "#7201a8"
             ],
             [
              0.3333333333333333,
              "#9c179e"
             ],
             [
              0.4444444444444444,
              "#bd3786"
             ],
             [
              0.5555555555555556,
              "#d8576b"
             ],
             [
              0.6666666666666666,
              "#ed7953"
             ],
             [
              0.7777777777777778,
              "#fb9f3a"
             ],
             [
              0.8888888888888888,
              "#fdca26"
             ],
             [
              1,
              "#f0f921"
             ]
            ],
            "type": "histogram2dcontour"
           }
          ],
          "mesh3d": [
           {
            "colorbar": {
             "outlinewidth": 0,
             "ticks": ""
            },
            "type": "mesh3d"
           }
          ],
          "parcoords": [
           {
            "line": {
             "colorbar": {
              "outlinewidth": 0,
              "ticks": ""
             }
            },
            "type": "parcoords"
           }
          ],
          "pie": [
           {
            "automargin": true,
            "type": "pie"
           }
          ],
          "scatter": [
           {
            "marker": {
             "colorbar": {
              "outlinewidth": 0,
              "ticks": ""
             }
            },
            "type": "scatter"
           }
          ],
          "scatter3d": [
           {
            "line": {
             "colorbar": {
              "outlinewidth": 0,
              "ticks": ""
             }
            },
            "marker": {
             "colorbar": {
              "outlinewidth": 0,
              "ticks": ""
             }
            },
            "type": "scatter3d"
           }
          ],
          "scattercarpet": [
           {
            "marker": {
             "colorbar": {
              "outlinewidth": 0,
              "ticks": ""
             }
            },
            "type": "scattercarpet"
           }
          ],
          "scattergeo": [
           {
            "marker": {
             "colorbar": {
              "outlinewidth": 0,
              "ticks": ""
             }
            },
            "type": "scattergeo"
           }
          ],
          "scattergl": [
           {
            "marker": {
             "colorbar": {
              "outlinewidth": 0,
              "ticks": ""
             }
            },
            "type": "scattergl"
           }
          ],
          "scattermapbox": [
           {
            "marker": {
             "colorbar": {
              "outlinewidth": 0,
              "ticks": ""
             }
            },
            "type": "scattermapbox"
           }
          ],
          "scatterpolar": [
           {
            "marker": {
             "colorbar": {
              "outlinewidth": 0,
              "ticks": ""
             }
            },
            "type": "scatterpolar"
           }
          ],
          "scatterpolargl": [
           {
            "marker": {
             "colorbar": {
              "outlinewidth": 0,
              "ticks": ""
             }
            },
            "type": "scatterpolargl"
           }
          ],
          "scatterternary": [
           {
            "marker": {
             "colorbar": {
              "outlinewidth": 0,
              "ticks": ""
             }
            },
            "type": "scatterternary"
           }
          ],
          "surface": [
           {
            "colorbar": {
             "outlinewidth": 0,
             "ticks": ""
            },
            "colorscale": [
             [
              0,
              "#0d0887"
             ],
             [
              0.1111111111111111,
              "#46039f"
             ],
             [
              0.2222222222222222,
              "#7201a8"
             ],
             [
              0.3333333333333333,
              "#9c179e"
             ],
             [
              0.4444444444444444,
              "#bd3786"
             ],
             [
              0.5555555555555556,
              "#d8576b"
             ],
             [
              0.6666666666666666,
              "#ed7953"
             ],
             [
              0.7777777777777778,
              "#fb9f3a"
             ],
             [
              0.8888888888888888,
              "#fdca26"
             ],
             [
              1,
              "#f0f921"
             ]
            ],
            "type": "surface"
           }
          ],
          "table": [
           {
            "cells": {
             "fill": {
              "color": "#EBF0F8"
             },
             "line": {
              "color": "white"
             }
            },
            "header": {
             "fill": {
              "color": "#C8D4E3"
             },
             "line": {
              "color": "white"
             }
            },
            "type": "table"
           }
          ]
         },
         "layout": {
          "annotationdefaults": {
           "arrowcolor": "#2a3f5f",
           "arrowhead": 0,
           "arrowwidth": 1
          },
          "coloraxis": {
           "colorbar": {
            "outlinewidth": 0,
            "ticks": ""
           }
          },
          "colorscale": {
           "diverging": [
            [
             0,
             "#8e0152"
            ],
            [
             0.1,
             "#c51b7d"
            ],
            [
             0.2,
             "#de77ae"
            ],
            [
             0.3,
             "#f1b6da"
            ],
            [
             0.4,
             "#fde0ef"
            ],
            [
             0.5,
             "#f7f7f7"
            ],
            [
             0.6,
             "#e6f5d0"
            ],
            [
             0.7,
             "#b8e186"
            ],
            [
             0.8,
             "#7fbc41"
            ],
            [
             0.9,
             "#4d9221"
            ],
            [
             1,
             "#276419"
            ]
           ],
           "sequential": [
            [
             0,
             "#0d0887"
            ],
            [
             0.1111111111111111,
             "#46039f"
            ],
            [
             0.2222222222222222,
             "#7201a8"
            ],
            [
             0.3333333333333333,
             "#9c179e"
            ],
            [
             0.4444444444444444,
             "#bd3786"
            ],
            [
             0.5555555555555556,
             "#d8576b"
            ],
            [
             0.6666666666666666,
             "#ed7953"
            ],
            [
             0.7777777777777778,
             "#fb9f3a"
            ],
            [
             0.8888888888888888,
             "#fdca26"
            ],
            [
             1,
             "#f0f921"
            ]
           ],
           "sequentialminus": [
            [
             0,
             "#0d0887"
            ],
            [
             0.1111111111111111,
             "#46039f"
            ],
            [
             0.2222222222222222,
             "#7201a8"
            ],
            [
             0.3333333333333333,
             "#9c179e"
            ],
            [
             0.4444444444444444,
             "#bd3786"
            ],
            [
             0.5555555555555556,
             "#d8576b"
            ],
            [
             0.6666666666666666,
             "#ed7953"
            ],
            [
             0.7777777777777778,
             "#fb9f3a"
            ],
            [
             0.8888888888888888,
             "#fdca26"
            ],
            [
             1,
             "#f0f921"
            ]
           ]
          },
          "colorway": [
           "#636efa",
           "#EF553B",
           "#00cc96",
           "#ab63fa",
           "#FFA15A",
           "#19d3f3",
           "#FF6692",
           "#B6E880",
           "#FF97FF",
           "#FECB52"
          ],
          "font": {
           "color": "#2a3f5f"
          },
          "geo": {
           "bgcolor": "white",
           "lakecolor": "white",
           "landcolor": "#E5ECF6",
           "showlakes": true,
           "showland": true,
           "subunitcolor": "white"
          },
          "hoverlabel": {
           "align": "left"
          },
          "hovermode": "closest",
          "mapbox": {
           "style": "light"
          },
          "paper_bgcolor": "white",
          "plot_bgcolor": "#E5ECF6",
          "polar": {
           "angularaxis": {
            "gridcolor": "white",
            "linecolor": "white",
            "ticks": ""
           },
           "bgcolor": "#E5ECF6",
           "radialaxis": {
            "gridcolor": "white",
            "linecolor": "white",
            "ticks": ""
           }
          },
          "scene": {
           "xaxis": {
            "backgroundcolor": "#E5ECF6",
            "gridcolor": "white",
            "gridwidth": 2,
            "linecolor": "white",
            "showbackground": true,
            "ticks": "",
            "zerolinecolor": "white"
           },
           "yaxis": {
            "backgroundcolor": "#E5ECF6",
            "gridcolor": "white",
            "gridwidth": 2,
            "linecolor": "white",
            "showbackground": true,
            "ticks": "",
            "zerolinecolor": "white"
           },
           "zaxis": {
            "backgroundcolor": "#E5ECF6",
            "gridcolor": "white",
            "gridwidth": 2,
            "linecolor": "white",
            "showbackground": true,
            "ticks": "",
            "zerolinecolor": "white"
           }
          },
          "shapedefaults": {
           "line": {
            "color": "#2a3f5f"
           }
          },
          "ternary": {
           "aaxis": {
            "gridcolor": "white",
            "linecolor": "white",
            "ticks": ""
           },
           "baxis": {
            "gridcolor": "white",
            "linecolor": "white",
            "ticks": ""
           },
           "bgcolor": "#E5ECF6",
           "caxis": {
            "gridcolor": "white",
            "linecolor": "white",
            "ticks": ""
           }
          },
          "title": {
           "x": 0.05
          },
          "xaxis": {
           "automargin": true,
           "gridcolor": "white",
           "linecolor": "white",
           "ticks": "",
           "title": {
            "standoff": 15
           },
           "zerolinecolor": "white",
           "zerolinewidth": 2
          },
          "yaxis": {
           "automargin": true,
           "gridcolor": "white",
           "linecolor": "white",
           "ticks": "",
           "title": {
            "standoff": 15
           },
           "zerolinecolor": "white",
           "zerolinewidth": 2
          }
         }
        },
        "title": {
         "text": "SPAM VS NONSPAM"
        }
       }
      },
      "text/html": [
       "<div>\n",
       "        \n",
       "        \n",
       "            <div id=\"e60e2107-9dbc-4f8d-8c7a-9b98afe318a3\" class=\"plotly-graph-div\" style=\"height:525px; width:100%;\"></div>\n",
       "            <script type=\"text/javascript\">\n",
       "                require([\"plotly\"], function(Plotly) {\n",
       "                    window.PLOTLYENV=window.PLOTLYENV || {};\n",
       "                    \n",
       "                if (document.getElementById(\"e60e2107-9dbc-4f8d-8c7a-9b98afe318a3\")) {\n",
       "                    Plotly.newPlot(\n",
       "                        'e60e2107-9dbc-4f8d-8c7a-9b98afe318a3',\n",
       "                        [{\"type\": \"bar\", \"x\": [\"NONSPAM\", \"SPAM\"], \"y\": [4825, 747]}],\n",
       "                        {\"template\": {\"data\": {\"bar\": [{\"error_x\": {\"color\": \"#2a3f5f\"}, \"error_y\": {\"color\": \"#2a3f5f\"}, \"marker\": {\"line\": {\"color\": \"#E5ECF6\", \"width\": 0.5}}, \"type\": \"bar\"}], \"barpolar\": [{\"marker\": {\"line\": {\"color\": \"#E5ECF6\", \"width\": 0.5}}, \"type\": \"barpolar\"}], \"carpet\": [{\"aaxis\": {\"endlinecolor\": \"#2a3f5f\", \"gridcolor\": \"white\", \"linecolor\": \"white\", \"minorgridcolor\": \"white\", \"startlinecolor\": \"#2a3f5f\"}, \"baxis\": {\"endlinecolor\": \"#2a3f5f\", \"gridcolor\": \"white\", \"linecolor\": \"white\", \"minorgridcolor\": \"white\", \"startlinecolor\": \"#2a3f5f\"}, \"type\": \"carpet\"}], \"choropleth\": [{\"colorbar\": {\"outlinewidth\": 0, \"ticks\": \"\"}, \"type\": \"choropleth\"}], \"contour\": [{\"colorbar\": {\"outlinewidth\": 0, \"ticks\": \"\"}, \"colorscale\": [[0.0, \"#0d0887\"], [0.1111111111111111, \"#46039f\"], [0.2222222222222222, \"#7201a8\"], [0.3333333333333333, \"#9c179e\"], [0.4444444444444444, \"#bd3786\"], [0.5555555555555556, \"#d8576b\"], [0.6666666666666666, \"#ed7953\"], [0.7777777777777778, \"#fb9f3a\"], [0.8888888888888888, \"#fdca26\"], [1.0, \"#f0f921\"]], \"type\": \"contour\"}], \"contourcarpet\": [{\"colorbar\": {\"outlinewidth\": 0, \"ticks\": \"\"}, \"type\": \"contourcarpet\"}], \"heatmap\": [{\"colorbar\": {\"outlinewidth\": 0, \"ticks\": \"\"}, \"colorscale\": [[0.0, \"#0d0887\"], [0.1111111111111111, \"#46039f\"], [0.2222222222222222, \"#7201a8\"], [0.3333333333333333, \"#9c179e\"], [0.4444444444444444, \"#bd3786\"], [0.5555555555555556, \"#d8576b\"], [0.6666666666666666, \"#ed7953\"], [0.7777777777777778, \"#fb9f3a\"], [0.8888888888888888, \"#fdca26\"], [1.0, \"#f0f921\"]], \"type\": \"heatmap\"}], \"heatmapgl\": [{\"colorbar\": {\"outlinewidth\": 0, \"ticks\": \"\"}, \"colorscale\": [[0.0, \"#0d0887\"], [0.1111111111111111, \"#46039f\"], [0.2222222222222222, \"#7201a8\"], [0.3333333333333333, \"#9c179e\"], [0.4444444444444444, \"#bd3786\"], [0.5555555555555556, \"#d8576b\"], [0.6666666666666666, \"#ed7953\"], [0.7777777777777778, \"#fb9f3a\"], [0.8888888888888888, \"#fdca26\"], [1.0, \"#f0f921\"]], \"type\": \"heatmapgl\"}], \"histogram\": [{\"marker\": {\"colorbar\": {\"outlinewidth\": 0, \"ticks\": \"\"}}, \"type\": \"histogram\"}], \"histogram2d\": [{\"colorbar\": {\"outlinewidth\": 0, \"ticks\": \"\"}, \"colorscale\": [[0.0, \"#0d0887\"], [0.1111111111111111, \"#46039f\"], [0.2222222222222222, \"#7201a8\"], [0.3333333333333333, \"#9c179e\"], [0.4444444444444444, \"#bd3786\"], [0.5555555555555556, \"#d8576b\"], [0.6666666666666666, \"#ed7953\"], [0.7777777777777778, \"#fb9f3a\"], [0.8888888888888888, \"#fdca26\"], [1.0, \"#f0f921\"]], \"type\": \"histogram2d\"}], \"histogram2dcontour\": [{\"colorbar\": {\"outlinewidth\": 0, \"ticks\": \"\"}, \"colorscale\": [[0.0, \"#0d0887\"], [0.1111111111111111, \"#46039f\"], [0.2222222222222222, \"#7201a8\"], [0.3333333333333333, \"#9c179e\"], [0.4444444444444444, \"#bd3786\"], [0.5555555555555556, \"#d8576b\"], [0.6666666666666666, \"#ed7953\"], [0.7777777777777778, \"#fb9f3a\"], [0.8888888888888888, \"#fdca26\"], [1.0, \"#f0f921\"]], \"type\": \"histogram2dcontour\"}], \"mesh3d\": [{\"colorbar\": {\"outlinewidth\": 0, \"ticks\": \"\"}, \"type\": \"mesh3d\"}], \"parcoords\": [{\"line\": {\"colorbar\": {\"outlinewidth\": 0, \"ticks\": \"\"}}, \"type\": \"parcoords\"}], \"pie\": [{\"automargin\": true, \"type\": \"pie\"}], \"scatter\": [{\"marker\": {\"colorbar\": {\"outlinewidth\": 0, \"ticks\": \"\"}}, \"type\": \"scatter\"}], \"scatter3d\": [{\"line\": {\"colorbar\": {\"outlinewidth\": 0, \"ticks\": \"\"}}, \"marker\": {\"colorbar\": {\"outlinewidth\": 0, \"ticks\": \"\"}}, \"type\": \"scatter3d\"}], \"scattercarpet\": [{\"marker\": {\"colorbar\": {\"outlinewidth\": 0, \"ticks\": \"\"}}, \"type\": \"scattercarpet\"}], \"scattergeo\": [{\"marker\": {\"colorbar\": {\"outlinewidth\": 0, \"ticks\": \"\"}}, \"type\": \"scattergeo\"}], \"scattergl\": [{\"marker\": {\"colorbar\": {\"outlinewidth\": 0, \"ticks\": \"\"}}, \"type\": \"scattergl\"}], \"scattermapbox\": [{\"marker\": {\"colorbar\": {\"outlinewidth\": 0, \"ticks\": \"\"}}, \"type\": \"scattermapbox\"}], \"scatterpolar\": [{\"marker\": {\"colorbar\": {\"outlinewidth\": 0, \"ticks\": \"\"}}, \"type\": \"scatterpolar\"}], \"scatterpolargl\": [{\"marker\": {\"colorbar\": {\"outlinewidth\": 0, \"ticks\": \"\"}}, \"type\": \"scatterpolargl\"}], \"scatterternary\": [{\"marker\": {\"colorbar\": {\"outlinewidth\": 0, \"ticks\": \"\"}}, \"type\": \"scatterternary\"}], \"surface\": [{\"colorbar\": {\"outlinewidth\": 0, \"ticks\": \"\"}, \"colorscale\": [[0.0, \"#0d0887\"], [0.1111111111111111, \"#46039f\"], [0.2222222222222222, \"#7201a8\"], [0.3333333333333333, \"#9c179e\"], [0.4444444444444444, \"#bd3786\"], [0.5555555555555556, \"#d8576b\"], [0.6666666666666666, \"#ed7953\"], [0.7777777777777778, \"#fb9f3a\"], [0.8888888888888888, \"#fdca26\"], [1.0, \"#f0f921\"]], \"type\": \"surface\"}], \"table\": [{\"cells\": {\"fill\": {\"color\": \"#EBF0F8\"}, \"line\": {\"color\": \"white\"}}, \"header\": {\"fill\": {\"color\": \"#C8D4E3\"}, \"line\": {\"color\": \"white\"}}, \"type\": \"table\"}]}, \"layout\": {\"annotationdefaults\": {\"arrowcolor\": \"#2a3f5f\", \"arrowhead\": 0, \"arrowwidth\": 1}, \"coloraxis\": {\"colorbar\": {\"outlinewidth\": 0, \"ticks\": \"\"}}, \"colorscale\": {\"diverging\": [[0, \"#8e0152\"], [0.1, \"#c51b7d\"], [0.2, \"#de77ae\"], [0.3, \"#f1b6da\"], [0.4, \"#fde0ef\"], [0.5, \"#f7f7f7\"], [0.6, \"#e6f5d0\"], [0.7, \"#b8e186\"], [0.8, \"#7fbc41\"], [0.9, \"#4d9221\"], [1, \"#276419\"]], \"sequential\": [[0.0, \"#0d0887\"], [0.1111111111111111, \"#46039f\"], [0.2222222222222222, \"#7201a8\"], [0.3333333333333333, \"#9c179e\"], [0.4444444444444444, \"#bd3786\"], [0.5555555555555556, \"#d8576b\"], [0.6666666666666666, \"#ed7953\"], [0.7777777777777778, \"#fb9f3a\"], [0.8888888888888888, \"#fdca26\"], [1.0, \"#f0f921\"]], \"sequentialminus\": [[0.0, \"#0d0887\"], [0.1111111111111111, \"#46039f\"], [0.2222222222222222, \"#7201a8\"], [0.3333333333333333, \"#9c179e\"], [0.4444444444444444, \"#bd3786\"], [0.5555555555555556, \"#d8576b\"], [0.6666666666666666, \"#ed7953\"], [0.7777777777777778, \"#fb9f3a\"], [0.8888888888888888, \"#fdca26\"], [1.0, \"#f0f921\"]]}, \"colorway\": [\"#636efa\", \"#EF553B\", \"#00cc96\", \"#ab63fa\", \"#FFA15A\", \"#19d3f3\", \"#FF6692\", \"#B6E880\", \"#FF97FF\", \"#FECB52\"], \"font\": {\"color\": \"#2a3f5f\"}, \"geo\": {\"bgcolor\": \"white\", \"lakecolor\": \"white\", \"landcolor\": \"#E5ECF6\", \"showlakes\": true, \"showland\": true, \"subunitcolor\": \"white\"}, \"hoverlabel\": {\"align\": \"left\"}, \"hovermode\": \"closest\", \"mapbox\": {\"style\": \"light\"}, \"paper_bgcolor\": \"white\", \"plot_bgcolor\": \"#E5ECF6\", \"polar\": {\"angularaxis\": {\"gridcolor\": \"white\", \"linecolor\": \"white\", \"ticks\": \"\"}, \"bgcolor\": \"#E5ECF6\", \"radialaxis\": {\"gridcolor\": \"white\", \"linecolor\": \"white\", \"ticks\": \"\"}}, \"scene\": {\"xaxis\": {\"backgroundcolor\": \"#E5ECF6\", \"gridcolor\": \"white\", \"gridwidth\": 2, \"linecolor\": \"white\", \"showbackground\": true, \"ticks\": \"\", \"zerolinecolor\": \"white\"}, \"yaxis\": {\"backgroundcolor\": \"#E5ECF6\", \"gridcolor\": \"white\", \"gridwidth\": 2, \"linecolor\": \"white\", \"showbackground\": true, \"ticks\": \"\", \"zerolinecolor\": \"white\"}, \"zaxis\": {\"backgroundcolor\": \"#E5ECF6\", \"gridcolor\": \"white\", \"gridwidth\": 2, \"linecolor\": \"white\", \"showbackground\": true, \"ticks\": \"\", \"zerolinecolor\": \"white\"}}, \"shapedefaults\": {\"line\": {\"color\": \"#2a3f5f\"}}, \"ternary\": {\"aaxis\": {\"gridcolor\": \"white\", \"linecolor\": \"white\", \"ticks\": \"\"}, \"baxis\": {\"gridcolor\": \"white\", \"linecolor\": \"white\", \"ticks\": \"\"}, \"bgcolor\": \"#E5ECF6\", \"caxis\": {\"gridcolor\": \"white\", \"linecolor\": \"white\", \"ticks\": \"\"}}, \"title\": {\"x\": 0.05}, \"xaxis\": {\"automargin\": true, \"gridcolor\": \"white\", \"linecolor\": \"white\", \"ticks\": \"\", \"title\": {\"standoff\": 15}, \"zerolinecolor\": \"white\", \"zerolinewidth\": 2}, \"yaxis\": {\"automargin\": true, \"gridcolor\": \"white\", \"linecolor\": \"white\", \"ticks\": \"\", \"title\": {\"standoff\": 15}, \"zerolinecolor\": \"white\", \"zerolinewidth\": 2}}}, \"title\": {\"text\": \"SPAM VS NONSPAM\"}},\n",
       "                        {\"responsive\": true}\n",
       "                    ).then(function(){\n",
       "                            \n",
       "var gd = document.getElementById('e60e2107-9dbc-4f8d-8c7a-9b98afe318a3');\n",
       "var x = new MutationObserver(function (mutations, observer) {{\n",
       "        var display = window.getComputedStyle(gd).display;\n",
       "        if (!display || display === 'none') {{\n",
       "            console.log([gd, 'removed!']);\n",
       "            Plotly.purge(gd);\n",
       "            observer.disconnect();\n",
       "        }}\n",
       "}});\n",
       "\n",
       "// Listen for the removal of the full notebook cells\n",
       "var notebookContainer = gd.closest('#notebook-container');\n",
       "if (notebookContainer) {{\n",
       "    x.observe(notebookContainer, {childList: true});\n",
       "}}\n",
       "\n",
       "// Listen for the clearing of the current output cell\n",
       "var outputEl = gd.closest('.output');\n",
       "if (outputEl) {{\n",
       "    x.observe(outputEl, {childList: true});\n",
       "}}\n",
       "\n",
       "                        })\n",
       "                };\n",
       "                });\n",
       "            </script>\n",
       "        </div>"
      ]
     },
     "metadata": {},
     "output_type": "display_data"
    },
    {
     "data": {
      "application/vnd.plotly.v1+json": {
       "config": {
        "linkText": "Export to plot.ly",
        "plotlyServerURL": "https://plot.ly",
        "showLink": false
       },
       "data": [
        {
         "hole": 0.4,
         "labels": [
          "NONSPAM",
          "SPAM"
         ],
         "type": "pie",
         "values": [
          4825,
          747
         ]
        }
       ],
       "layout": {
        "annotations": [
         {
          "font": {
           "size": 12
          },
          "showarrow": false,
          "text": "SPAM vs NONSPAM",
          "x": 0.16,
          "y": 0.5
         }
        ],
        "grid": {
         "columns": 2,
         "rows": 1
        },
        "template": {
         "data": {
          "bar": [
           {
            "error_x": {
             "color": "#2a3f5f"
            },
            "error_y": {
             "color": "#2a3f5f"
            },
            "marker": {
             "line": {
              "color": "#E5ECF6",
              "width": 0.5
             }
            },
            "type": "bar"
           }
          ],
          "barpolar": [
           {
            "marker": {
             "line": {
              "color": "#E5ECF6",
              "width": 0.5
             }
            },
            "type": "barpolar"
           }
          ],
          "carpet": [
           {
            "aaxis": {
             "endlinecolor": "#2a3f5f",
             "gridcolor": "white",
             "linecolor": "white",
             "minorgridcolor": "white",
             "startlinecolor": "#2a3f5f"
            },
            "baxis": {
             "endlinecolor": "#2a3f5f",
             "gridcolor": "white",
             "linecolor": "white",
             "minorgridcolor": "white",
             "startlinecolor": "#2a3f5f"
            },
            "type": "carpet"
           }
          ],
          "choropleth": [
           {
            "colorbar": {
             "outlinewidth": 0,
             "ticks": ""
            },
            "type": "choropleth"
           }
          ],
          "contour": [
           {
            "colorbar": {
             "outlinewidth": 0,
             "ticks": ""
            },
            "colorscale": [
             [
              0,
              "#0d0887"
             ],
             [
              0.1111111111111111,
              "#46039f"
             ],
             [
              0.2222222222222222,
              "#7201a8"
             ],
             [
              0.3333333333333333,
              "#9c179e"
             ],
             [
              0.4444444444444444,
              "#bd3786"
             ],
             [
              0.5555555555555556,
              "#d8576b"
             ],
             [
              0.6666666666666666,
              "#ed7953"
             ],
             [
              0.7777777777777778,
              "#fb9f3a"
             ],
             [
              0.8888888888888888,
              "#fdca26"
             ],
             [
              1,
              "#f0f921"
             ]
            ],
            "type": "contour"
           }
          ],
          "contourcarpet": [
           {
            "colorbar": {
             "outlinewidth": 0,
             "ticks": ""
            },
            "type": "contourcarpet"
           }
          ],
          "heatmap": [
           {
            "colorbar": {
             "outlinewidth": 0,
             "ticks": ""
            },
            "colorscale": [
             [
              0,
              "#0d0887"
             ],
             [
              0.1111111111111111,
              "#46039f"
             ],
             [
              0.2222222222222222,
              "#7201a8"
             ],
             [
              0.3333333333333333,
              "#9c179e"
             ],
             [
              0.4444444444444444,
              "#bd3786"
             ],
             [
              0.5555555555555556,
              "#d8576b"
             ],
             [
              0.6666666666666666,
              "#ed7953"
             ],
             [
              0.7777777777777778,
              "#fb9f3a"
             ],
             [
              0.8888888888888888,
              "#fdca26"
             ],
             [
              1,
              "#f0f921"
             ]
            ],
            "type": "heatmap"
           }
          ],
          "heatmapgl": [
           {
            "colorbar": {
             "outlinewidth": 0,
             "ticks": ""
            },
            "colorscale": [
             [
              0,
              "#0d0887"
             ],
             [
              0.1111111111111111,
              "#46039f"
             ],
             [
              0.2222222222222222,
              "#7201a8"
             ],
             [
              0.3333333333333333,
              "#9c179e"
             ],
             [
              0.4444444444444444,
              "#bd3786"
             ],
             [
              0.5555555555555556,
              "#d8576b"
             ],
             [
              0.6666666666666666,
              "#ed7953"
             ],
             [
              0.7777777777777778,
              "#fb9f3a"
             ],
             [
              0.8888888888888888,
              "#fdca26"
             ],
             [
              1,
              "#f0f921"
             ]
            ],
            "type": "heatmapgl"
           }
          ],
          "histogram": [
           {
            "marker": {
             "colorbar": {
              "outlinewidth": 0,
              "ticks": ""
             }
            },
            "type": "histogram"
           }
          ],
          "histogram2d": [
           {
            "colorbar": {
             "outlinewidth": 0,
             "ticks": ""
            },
            "colorscale": [
             [
              0,
              "#0d0887"
             ],
             [
              0.1111111111111111,
              "#46039f"
             ],
             [
              0.2222222222222222,
              "#7201a8"
             ],
             [
              0.3333333333333333,
              "#9c179e"
             ],
             [
              0.4444444444444444,
              "#bd3786"
             ],
             [
              0.5555555555555556,
              "#d8576b"
             ],
             [
              0.6666666666666666,
              "#ed7953"
             ],
             [
              0.7777777777777778,
              "#fb9f3a"
             ],
             [
              0.8888888888888888,
              "#fdca26"
             ],
             [
              1,
              "#f0f921"
             ]
            ],
            "type": "histogram2d"
           }
          ],
          "histogram2dcontour": [
           {
            "colorbar": {
             "outlinewidth": 0,
             "ticks": ""
            },
            "colorscale": [
             [
              0,
              "#0d0887"
             ],
             [
              0.1111111111111111,
              "#46039f"
             ],
             [
              0.2222222222222222,
              "#7201a8"
             ],
             [
              0.3333333333333333,
              "#9c179e"
             ],
             [
              0.4444444444444444,
              "#bd3786"
             ],
             [
              0.5555555555555556,
              "#d8576b"
             ],
             [
              0.6666666666666666,
              "#ed7953"
             ],
             [
              0.7777777777777778,
              "#fb9f3a"
             ],
             [
              0.8888888888888888,
              "#fdca26"
             ],
             [
              1,
              "#f0f921"
             ]
            ],
            "type": "histogram2dcontour"
           }
          ],
          "mesh3d": [
           {
            "colorbar": {
             "outlinewidth": 0,
             "ticks": ""
            },
            "type": "mesh3d"
           }
          ],
          "parcoords": [
           {
            "line": {
             "colorbar": {
              "outlinewidth": 0,
              "ticks": ""
             }
            },
            "type": "parcoords"
           }
          ],
          "pie": [
           {
            "automargin": true,
            "type": "pie"
           }
          ],
          "scatter": [
           {
            "marker": {
             "colorbar": {
              "outlinewidth": 0,
              "ticks": ""
             }
            },
            "type": "scatter"
           }
          ],
          "scatter3d": [
           {
            "line": {
             "colorbar": {
              "outlinewidth": 0,
              "ticks": ""
             }
            },
            "marker": {
             "colorbar": {
              "outlinewidth": 0,
              "ticks": ""
             }
            },
            "type": "scatter3d"
           }
          ],
          "scattercarpet": [
           {
            "marker": {
             "colorbar": {
              "outlinewidth": 0,
              "ticks": ""
             }
            },
            "type": "scattercarpet"
           }
          ],
          "scattergeo": [
           {
            "marker": {
             "colorbar": {
              "outlinewidth": 0,
              "ticks": ""
             }
            },
            "type": "scattergeo"
           }
          ],
          "scattergl": [
           {
            "marker": {
             "colorbar": {
              "outlinewidth": 0,
              "ticks": ""
             }
            },
            "type": "scattergl"
           }
          ],
          "scattermapbox": [
           {
            "marker": {
             "colorbar": {
              "outlinewidth": 0,
              "ticks": ""
             }
            },
            "type": "scattermapbox"
           }
          ],
          "scatterpolar": [
           {
            "marker": {
             "colorbar": {
              "outlinewidth": 0,
              "ticks": ""
             }
            },
            "type": "scatterpolar"
           }
          ],
          "scatterpolargl": [
           {
            "marker": {
             "colorbar": {
              "outlinewidth": 0,
              "ticks": ""
             }
            },
            "type": "scatterpolargl"
           }
          ],
          "scatterternary": [
           {
            "marker": {
             "colorbar": {
              "outlinewidth": 0,
              "ticks": ""
             }
            },
            "type": "scatterternary"
           }
          ],
          "surface": [
           {
            "colorbar": {
             "outlinewidth": 0,
             "ticks": ""
            },
            "colorscale": [
             [
              0,
              "#0d0887"
             ],
             [
              0.1111111111111111,
              "#46039f"
             ],
             [
              0.2222222222222222,
              "#7201a8"
             ],
             [
              0.3333333333333333,
              "#9c179e"
             ],
             [
              0.4444444444444444,
              "#bd3786"
             ],
             [
              0.5555555555555556,
              "#d8576b"
             ],
             [
              0.6666666666666666,
              "#ed7953"
             ],
             [
              0.7777777777777778,
              "#fb9f3a"
             ],
             [
              0.8888888888888888,
              "#fdca26"
             ],
             [
              1,
              "#f0f921"
             ]
            ],
            "type": "surface"
           }
          ],
          "table": [
           {
            "cells": {
             "fill": {
              "color": "#EBF0F8"
             },
             "line": {
              "color": "white"
             }
            },
            "header": {
             "fill": {
              "color": "#C8D4E3"
             },
             "line": {
              "color": "white"
             }
            },
            "type": "table"
           }
          ]
         },
         "layout": {
          "annotationdefaults": {
           "arrowcolor": "#2a3f5f",
           "arrowhead": 0,
           "arrowwidth": 1
          },
          "coloraxis": {
           "colorbar": {
            "outlinewidth": 0,
            "ticks": ""
           }
          },
          "colorscale": {
           "diverging": [
            [
             0,
             "#8e0152"
            ],
            [
             0.1,
             "#c51b7d"
            ],
            [
             0.2,
             "#de77ae"
            ],
            [
             0.3,
             "#f1b6da"
            ],
            [
             0.4,
             "#fde0ef"
            ],
            [
             0.5,
             "#f7f7f7"
            ],
            [
             0.6,
             "#e6f5d0"
            ],
            [
             0.7,
             "#b8e186"
            ],
            [
             0.8,
             "#7fbc41"
            ],
            [
             0.9,
             "#4d9221"
            ],
            [
             1,
             "#276419"
            ]
           ],
           "sequential": [
            [
             0,
             "#0d0887"
            ],
            [
             0.1111111111111111,
             "#46039f"
            ],
            [
             0.2222222222222222,
             "#7201a8"
            ],
            [
             0.3333333333333333,
             "#9c179e"
            ],
            [
             0.4444444444444444,
             "#bd3786"
            ],
            [
             0.5555555555555556,
             "#d8576b"
            ],
            [
             0.6666666666666666,
             "#ed7953"
            ],
            [
             0.7777777777777778,
             "#fb9f3a"
            ],
            [
             0.8888888888888888,
             "#fdca26"
            ],
            [
             1,
             "#f0f921"
            ]
           ],
           "sequentialminus": [
            [
             0,
             "#0d0887"
            ],
            [
             0.1111111111111111,
             "#46039f"
            ],
            [
             0.2222222222222222,
             "#7201a8"
            ],
            [
             0.3333333333333333,
             "#9c179e"
            ],
            [
             0.4444444444444444,
             "#bd3786"
            ],
            [
             0.5555555555555556,
             "#d8576b"
            ],
            [
             0.6666666666666666,
             "#ed7953"
            ],
            [
             0.7777777777777778,
             "#fb9f3a"
            ],
            [
             0.8888888888888888,
             "#fdca26"
            ],
            [
             1,
             "#f0f921"
            ]
           ]
          },
          "colorway": [
           "#636efa",
           "#EF553B",
           "#00cc96",
           "#ab63fa",
           "#FFA15A",
           "#19d3f3",
           "#FF6692",
           "#B6E880",
           "#FF97FF",
           "#FECB52"
          ],
          "font": {
           "color": "#2a3f5f"
          },
          "geo": {
           "bgcolor": "white",
           "lakecolor": "white",
           "landcolor": "#E5ECF6",
           "showlakes": true,
           "showland": true,
           "subunitcolor": "white"
          },
          "hoverlabel": {
           "align": "left"
          },
          "hovermode": "closest",
          "mapbox": {
           "style": "light"
          },
          "paper_bgcolor": "white",
          "plot_bgcolor": "#E5ECF6",
          "polar": {
           "angularaxis": {
            "gridcolor": "white",
            "linecolor": "white",
            "ticks": ""
           },
           "bgcolor": "#E5ECF6",
           "radialaxis": {
            "gridcolor": "white",
            "linecolor": "white",
            "ticks": ""
           }
          },
          "scene": {
           "xaxis": {
            "backgroundcolor": "#E5ECF6",
            "gridcolor": "white",
            "gridwidth": 2,
            "linecolor": "white",
            "showbackground": true,
            "ticks": "",
            "zerolinecolor": "white"
           },
           "yaxis": {
            "backgroundcolor": "#E5ECF6",
            "gridcolor": "white",
            "gridwidth": 2,
            "linecolor": "white",
            "showbackground": true,
            "ticks": "",
            "zerolinecolor": "white"
           },
           "zaxis": {
            "backgroundcolor": "#E5ECF6",
            "gridcolor": "white",
            "gridwidth": 2,
            "linecolor": "white",
            "showbackground": true,
            "ticks": "",
            "zerolinecolor": "white"
           }
          },
          "shapedefaults": {
           "line": {
            "color": "#2a3f5f"
           }
          },
          "ternary": {
           "aaxis": {
            "gridcolor": "white",
            "linecolor": "white",
            "ticks": ""
           },
           "baxis": {
            "gridcolor": "white",
            "linecolor": "white",
            "ticks": ""
           },
           "bgcolor": "#E5ECF6",
           "caxis": {
            "gridcolor": "white",
            "linecolor": "white",
            "ticks": ""
           }
          },
          "title": {
           "x": 0.05
          },
          "xaxis": {
           "automargin": true,
           "gridcolor": "white",
           "linecolor": "white",
           "ticks": "",
           "title": {
            "standoff": 15
           },
           "zerolinecolor": "white",
           "zerolinewidth": 2
          },
          "yaxis": {
           "automargin": true,
           "gridcolor": "white",
           "linecolor": "white",
           "ticks": "",
           "title": {
            "standoff": 15
           },
           "zerolinecolor": "white",
           "zerolinewidth": 2
          }
         }
        }
       }
      },
      "text/html": [
       "<div>\n",
       "        \n",
       "        \n",
       "            <div id=\"fa1c030d-fb3c-495a-9800-4897ce7e6455\" class=\"plotly-graph-div\" style=\"height:525px; width:100%;\"></div>\n",
       "            <script type=\"text/javascript\">\n",
       "                require([\"plotly\"], function(Plotly) {\n",
       "                    window.PLOTLYENV=window.PLOTLYENV || {};\n",
       "                    \n",
       "                if (document.getElementById(\"fa1c030d-fb3c-495a-9800-4897ce7e6455\")) {\n",
       "                    Plotly.newPlot(\n",
       "                        'fa1c030d-fb3c-495a-9800-4897ce7e6455',\n",
       "                        [{\"hole\": 0.4, \"labels\": [\"NONSPAM\", \"SPAM\"], \"type\": \"pie\", \"values\": [4825, 747]}],\n",
       "                        {\"annotations\": [{\"font\": {\"size\": 12}, \"showarrow\": false, \"text\": \"SPAM vs NONSPAM\", \"x\": 0.16, \"y\": 0.5}], \"grid\": {\"columns\": 2, \"rows\": 1}, \"template\": {\"data\": {\"bar\": [{\"error_x\": {\"color\": \"#2a3f5f\"}, \"error_y\": {\"color\": \"#2a3f5f\"}, \"marker\": {\"line\": {\"color\": \"#E5ECF6\", \"width\": 0.5}}, \"type\": \"bar\"}], \"barpolar\": [{\"marker\": {\"line\": {\"color\": \"#E5ECF6\", \"width\": 0.5}}, \"type\": \"barpolar\"}], \"carpet\": [{\"aaxis\": {\"endlinecolor\": \"#2a3f5f\", \"gridcolor\": \"white\", \"linecolor\": \"white\", \"minorgridcolor\": \"white\", \"startlinecolor\": \"#2a3f5f\"}, \"baxis\": {\"endlinecolor\": \"#2a3f5f\", \"gridcolor\": \"white\", \"linecolor\": \"white\", \"minorgridcolor\": \"white\", \"startlinecolor\": \"#2a3f5f\"}, \"type\": \"carpet\"}], \"choropleth\": [{\"colorbar\": {\"outlinewidth\": 0, \"ticks\": \"\"}, \"type\": \"choropleth\"}], \"contour\": [{\"colorbar\": {\"outlinewidth\": 0, \"ticks\": \"\"}, \"colorscale\": [[0.0, \"#0d0887\"], [0.1111111111111111, \"#46039f\"], [0.2222222222222222, \"#7201a8\"], [0.3333333333333333, \"#9c179e\"], [0.4444444444444444, \"#bd3786\"], [0.5555555555555556, \"#d8576b\"], [0.6666666666666666, \"#ed7953\"], [0.7777777777777778, \"#fb9f3a\"], [0.8888888888888888, \"#fdca26\"], [1.0, \"#f0f921\"]], \"type\": \"contour\"}], \"contourcarpet\": [{\"colorbar\": {\"outlinewidth\": 0, \"ticks\": \"\"}, \"type\": \"contourcarpet\"}], \"heatmap\": [{\"colorbar\": {\"outlinewidth\": 0, \"ticks\": \"\"}, \"colorscale\": [[0.0, \"#0d0887\"], [0.1111111111111111, \"#46039f\"], [0.2222222222222222, \"#7201a8\"], [0.3333333333333333, \"#9c179e\"], [0.4444444444444444, \"#bd3786\"], [0.5555555555555556, \"#d8576b\"], [0.6666666666666666, \"#ed7953\"], [0.7777777777777778, \"#fb9f3a\"], [0.8888888888888888, \"#fdca26\"], [1.0, \"#f0f921\"]], \"type\": \"heatmap\"}], \"heatmapgl\": [{\"colorbar\": {\"outlinewidth\": 0, \"ticks\": \"\"}, \"colorscale\": [[0.0, \"#0d0887\"], [0.1111111111111111, \"#46039f\"], [0.2222222222222222, \"#7201a8\"], [0.3333333333333333, \"#9c179e\"], [0.4444444444444444, \"#bd3786\"], [0.5555555555555556, \"#d8576b\"], [0.6666666666666666, \"#ed7953\"], [0.7777777777777778, \"#fb9f3a\"], [0.8888888888888888, \"#fdca26\"], [1.0, \"#f0f921\"]], \"type\": \"heatmapgl\"}], \"histogram\": [{\"marker\": {\"colorbar\": {\"outlinewidth\": 0, \"ticks\": \"\"}}, \"type\": \"histogram\"}], \"histogram2d\": [{\"colorbar\": {\"outlinewidth\": 0, \"ticks\": \"\"}, \"colorscale\": [[0.0, \"#0d0887\"], [0.1111111111111111, \"#46039f\"], [0.2222222222222222, \"#7201a8\"], [0.3333333333333333, \"#9c179e\"], [0.4444444444444444, \"#bd3786\"], [0.5555555555555556, \"#d8576b\"], [0.6666666666666666, \"#ed7953\"], [0.7777777777777778, \"#fb9f3a\"], [0.8888888888888888, \"#fdca26\"], [1.0, \"#f0f921\"]], \"type\": \"histogram2d\"}], \"histogram2dcontour\": [{\"colorbar\": {\"outlinewidth\": 0, \"ticks\": \"\"}, \"colorscale\": [[0.0, \"#0d0887\"], [0.1111111111111111, \"#46039f\"], [0.2222222222222222, \"#7201a8\"], [0.3333333333333333, \"#9c179e\"], [0.4444444444444444, \"#bd3786\"], [0.5555555555555556, \"#d8576b\"], [0.6666666666666666, \"#ed7953\"], [0.7777777777777778, \"#fb9f3a\"], [0.8888888888888888, \"#fdca26\"], [1.0, \"#f0f921\"]], \"type\": \"histogram2dcontour\"}], \"mesh3d\": [{\"colorbar\": {\"outlinewidth\": 0, \"ticks\": \"\"}, \"type\": \"mesh3d\"}], \"parcoords\": [{\"line\": {\"colorbar\": {\"outlinewidth\": 0, \"ticks\": \"\"}}, \"type\": \"parcoords\"}], \"pie\": [{\"automargin\": true, \"type\": \"pie\"}], \"scatter\": [{\"marker\": {\"colorbar\": {\"outlinewidth\": 0, \"ticks\": \"\"}}, \"type\": \"scatter\"}], \"scatter3d\": [{\"line\": {\"colorbar\": {\"outlinewidth\": 0, \"ticks\": \"\"}}, \"marker\": {\"colorbar\": {\"outlinewidth\": 0, \"ticks\": \"\"}}, \"type\": \"scatter3d\"}], \"scattercarpet\": [{\"marker\": {\"colorbar\": {\"outlinewidth\": 0, \"ticks\": \"\"}}, \"type\": \"scattercarpet\"}], \"scattergeo\": [{\"marker\": {\"colorbar\": {\"outlinewidth\": 0, \"ticks\": \"\"}}, \"type\": \"scattergeo\"}], \"scattergl\": [{\"marker\": {\"colorbar\": {\"outlinewidth\": 0, \"ticks\": \"\"}}, \"type\": \"scattergl\"}], \"scattermapbox\": [{\"marker\": {\"colorbar\": {\"outlinewidth\": 0, \"ticks\": \"\"}}, \"type\": \"scattermapbox\"}], \"scatterpolar\": [{\"marker\": {\"colorbar\": {\"outlinewidth\": 0, \"ticks\": \"\"}}, \"type\": \"scatterpolar\"}], \"scatterpolargl\": [{\"marker\": {\"colorbar\": {\"outlinewidth\": 0, \"ticks\": \"\"}}, \"type\": \"scatterpolargl\"}], \"scatterternary\": [{\"marker\": {\"colorbar\": {\"outlinewidth\": 0, \"ticks\": \"\"}}, \"type\": \"scatterternary\"}], \"surface\": [{\"colorbar\": {\"outlinewidth\": 0, \"ticks\": \"\"}, \"colorscale\": [[0.0, \"#0d0887\"], [0.1111111111111111, \"#46039f\"], [0.2222222222222222, \"#7201a8\"], [0.3333333333333333, \"#9c179e\"], [0.4444444444444444, \"#bd3786\"], [0.5555555555555556, \"#d8576b\"], [0.6666666666666666, \"#ed7953\"], [0.7777777777777778, \"#fb9f3a\"], [0.8888888888888888, \"#fdca26\"], [1.0, \"#f0f921\"]], \"type\": \"surface\"}], \"table\": [{\"cells\": {\"fill\": {\"color\": \"#EBF0F8\"}, \"line\": {\"color\": \"white\"}}, \"header\": {\"fill\": {\"color\": \"#C8D4E3\"}, \"line\": {\"color\": \"white\"}}, \"type\": \"table\"}]}, \"layout\": {\"annotationdefaults\": {\"arrowcolor\": \"#2a3f5f\", \"arrowhead\": 0, \"arrowwidth\": 1}, \"coloraxis\": {\"colorbar\": {\"outlinewidth\": 0, \"ticks\": \"\"}}, \"colorscale\": {\"diverging\": [[0, \"#8e0152\"], [0.1, \"#c51b7d\"], [0.2, \"#de77ae\"], [0.3, \"#f1b6da\"], [0.4, \"#fde0ef\"], [0.5, \"#f7f7f7\"], [0.6, \"#e6f5d0\"], [0.7, \"#b8e186\"], [0.8, \"#7fbc41\"], [0.9, \"#4d9221\"], [1, \"#276419\"]], \"sequential\": [[0.0, \"#0d0887\"], [0.1111111111111111, \"#46039f\"], [0.2222222222222222, \"#7201a8\"], [0.3333333333333333, \"#9c179e\"], [0.4444444444444444, \"#bd3786\"], [0.5555555555555556, \"#d8576b\"], [0.6666666666666666, \"#ed7953\"], [0.7777777777777778, \"#fb9f3a\"], [0.8888888888888888, \"#fdca26\"], [1.0, \"#f0f921\"]], \"sequentialminus\": [[0.0, \"#0d0887\"], [0.1111111111111111, \"#46039f\"], [0.2222222222222222, \"#7201a8\"], [0.3333333333333333, \"#9c179e\"], [0.4444444444444444, \"#bd3786\"], [0.5555555555555556, \"#d8576b\"], [0.6666666666666666, \"#ed7953\"], [0.7777777777777778, \"#fb9f3a\"], [0.8888888888888888, \"#fdca26\"], [1.0, \"#f0f921\"]]}, \"colorway\": [\"#636efa\", \"#EF553B\", \"#00cc96\", \"#ab63fa\", \"#FFA15A\", \"#19d3f3\", \"#FF6692\", \"#B6E880\", \"#FF97FF\", \"#FECB52\"], \"font\": {\"color\": \"#2a3f5f\"}, \"geo\": {\"bgcolor\": \"white\", \"lakecolor\": \"white\", \"landcolor\": \"#E5ECF6\", \"showlakes\": true, \"showland\": true, \"subunitcolor\": \"white\"}, \"hoverlabel\": {\"align\": \"left\"}, \"hovermode\": \"closest\", \"mapbox\": {\"style\": \"light\"}, \"paper_bgcolor\": \"white\", \"plot_bgcolor\": \"#E5ECF6\", \"polar\": {\"angularaxis\": {\"gridcolor\": \"white\", \"linecolor\": \"white\", \"ticks\": \"\"}, \"bgcolor\": \"#E5ECF6\", \"radialaxis\": {\"gridcolor\": \"white\", \"linecolor\": \"white\", \"ticks\": \"\"}}, \"scene\": {\"xaxis\": {\"backgroundcolor\": \"#E5ECF6\", \"gridcolor\": \"white\", \"gridwidth\": 2, \"linecolor\": \"white\", \"showbackground\": true, \"ticks\": \"\", \"zerolinecolor\": \"white\"}, \"yaxis\": {\"backgroundcolor\": \"#E5ECF6\", \"gridcolor\": \"white\", \"gridwidth\": 2, \"linecolor\": \"white\", \"showbackground\": true, \"ticks\": \"\", \"zerolinecolor\": \"white\"}, \"zaxis\": {\"backgroundcolor\": \"#E5ECF6\", \"gridcolor\": \"white\", \"gridwidth\": 2, \"linecolor\": \"white\", \"showbackground\": true, \"ticks\": \"\", \"zerolinecolor\": \"white\"}}, \"shapedefaults\": {\"line\": {\"color\": \"#2a3f5f\"}}, \"ternary\": {\"aaxis\": {\"gridcolor\": \"white\", \"linecolor\": \"white\", \"ticks\": \"\"}, \"baxis\": {\"gridcolor\": \"white\", \"linecolor\": \"white\", \"ticks\": \"\"}, \"bgcolor\": \"#E5ECF6\", \"caxis\": {\"gridcolor\": \"white\", \"linecolor\": \"white\", \"ticks\": \"\"}}, \"title\": {\"x\": 0.05}, \"xaxis\": {\"automargin\": true, \"gridcolor\": \"white\", \"linecolor\": \"white\", \"ticks\": \"\", \"title\": {\"standoff\": 15}, \"zerolinecolor\": \"white\", \"zerolinewidth\": 2}, \"yaxis\": {\"automargin\": true, \"gridcolor\": \"white\", \"linecolor\": \"white\", \"ticks\": \"\", \"title\": {\"standoff\": 15}, \"zerolinecolor\": \"white\", \"zerolinewidth\": 2}}}},\n",
       "                        {\"responsive\": true}\n",
       "                    ).then(function(){\n",
       "                            \n",
       "var gd = document.getElementById('fa1c030d-fb3c-495a-9800-4897ce7e6455');\n",
       "var x = new MutationObserver(function (mutations, observer) {{\n",
       "        var display = window.getComputedStyle(gd).display;\n",
       "        if (!display || display === 'none') {{\n",
       "            console.log([gd, 'removed!']);\n",
       "            Plotly.purge(gd);\n",
       "            observer.disconnect();\n",
       "        }}\n",
       "}});\n",
       "\n",
       "// Listen for the removal of the full notebook cells\n",
       "var notebookContainer = gd.closest('#notebook-container');\n",
       "if (notebookContainer) {{\n",
       "    x.observe(notebookContainer, {childList: true});\n",
       "}}\n",
       "\n",
       "// Listen for the clearing of the current output cell\n",
       "var outputEl = gd.closest('.output');\n",
       "if (outputEl) {{\n",
       "    x.observe(outputEl, {childList: true});\n",
       "}}\n",
       "\n",
       "                        })\n",
       "                };\n",
       "                });\n",
       "            </script>\n",
       "        </div>"
      ]
     },
     "metadata": {},
     "output_type": "display_data"
    }
   ],
   "source": [
    "import plotly\n",
    "from plotly.offline import plot,iplot\n",
    "import plotly.graph_objs as go\n",
    "import plotly.figure_factory as ff\n",
    "k=['NONSPAM','SPAM']\n",
    "data1 = go.Bar(\n",
    "   x= k,\n",
    "   y=count_spam,\n",
    "   \n",
    ")\n",
    "layout = go.Layout(\n",
    "   {\n",
    "      \"title\":\"SPAM VS NONSPAM\"\n",
    "   }\n",
    ")\n",
    "fig = go.Figure(data = data1, layout = layout)\n",
    "iplot(fig)\n",
    "data1 = {\n",
    "   \"values\": count_spam,\n",
    "   \"labels\":[\"NONSPAM\",\"SPAM\"],\n",
    "   \"hole\": .4,\n",
    "   \"type\": \"pie\"\n",
    "}\n",
    "layout = go.Layout(\n",
    "   {\n",
    "      \n",
    "      \"grid\": {\"rows\": 1, \"columns\": 2},\n",
    "      \"annotations\": [\n",
    "         {\n",
    "            \"font\": {\n",
    "               \"size\": 12\n",
    "            },\n",
    "            \"showarrow\": False,\n",
    "            \"text\": \"SPAM vs NONSPAM\",\n",
    "            \"x\": 0.16,\n",
    "            \"y\": 0.5\n",
    "         },\n",
    "      ]\n",
    "   }\n",
    ")\n",
    "fig = go.Figure(data = data1, layout = layout)\n",
    "iplot(fig)"
   ]
  },
  {
   "cell_type": "markdown",
   "metadata": {},
   "source": [
    "Let us map our outcome\n",
    "spam->1\n",
    "ham->0"
   ]
  },
  {
   "cell_type": "code",
   "execution_count": 30,
   "metadata": {},
   "outputs": [],
   "source": [
    "dataset[\"v1\"]=dataset[\"v1\"].map({'spam':1,'ham':0})"
   ]
  },
  {
   "cell_type": "markdown",
   "metadata": {},
   "source": [
    "Let us remove the Stopwords in engllish language,because we dont need them in our prediction"
   ]
  },
  {
   "cell_type": "code",
   "execution_count": 32,
   "metadata": {},
   "outputs": [
    {
     "data": {
      "text/plain": [
       "(5572, 8404)"
      ]
     },
     "execution_count": 32,
     "metadata": {},
     "output_type": "execute_result"
    }
   ],
   "source": [
    "f = feature_extraction.text.TfidfVectorizer(stop_words = 'english')\n",
    "X = f.fit_transform(dataset[\"v2\"])\n",
    "np.shape(X)"
   ]
  },
  {
   "cell_type": "markdown",
   "metadata": {},
   "source": [
    "Let us split our data into training and testing set"
   ]
  },
  {
   "cell_type": "code",
   "execution_count": 40,
   "metadata": {},
   "outputs": [
    {
     "name": "stdout",
     "output_type": "stream",
     "text": [
      "[(5014, 8404), (558, 8404)]\n"
     ]
    }
   ],
   "source": [
    "trainX, testX, trainY, testY = model_selection.train_test_split(X, dataset['v1'], test_size=0.10, random_state=12)\n",
    "print([np.shape(trainX), np.shape(testX)])"
   ]
  },
  {
   "cell_type": "markdown",
   "metadata": {},
   "source": [
    "We now use the Multinomial Naive Bayes Classifier and take a range of alpha values "
   ]
  },
  {
   "cell_type": "code",
   "execution_count": 53,
   "metadata": {},
   "outputs": [
    {
     "name": "stdout",
     "output_type": "stream",
     "text": [
      "alpha=0.000010, train accuracy=99.88%\n",
      "alpha=0.000010, test accuracy=97.13%\n",
      "alpha=0.150010, train accuracy=99.78%\n",
      "alpha=0.150010, test accuracy=98.21%\n",
      "alpha=0.300010, train accuracy=99.58%\n",
      "alpha=0.300010, test accuracy=98.39%\n",
      "alpha=0.450010, train accuracy=99.38%\n",
      "alpha=0.450010, test accuracy=98.21%\n",
      "alpha=0.600010, train accuracy=99.18%\n",
      "alpha=0.600010, test accuracy=97.49%\n",
      "alpha=0.750010, train accuracy=98.74%\n",
      "alpha=0.750010, test accuracy=97.31%\n",
      "alpha=0.900010, train accuracy=98.36%\n",
      "alpha=0.900010, test accuracy=96.77%\n",
      "alpha=1.050010, train accuracy=98.17%\n",
      "alpha=1.050010, test accuracy=96.24%\n",
      "alpha=1.200010, train accuracy=98.01%\n",
      "alpha=1.200010, test accuracy=96.24%\n",
      "alpha=1.350010, train accuracy=97.79%\n",
      "alpha=1.350010, test accuracy=95.70%\n",
      "alpha=1.500010, train accuracy=97.45%\n",
      "alpha=1.500010, test accuracy=95.34%\n",
      "alpha=1.650010, train accuracy=96.91%\n",
      "alpha=1.650010, test accuracy=94.98%\n",
      "alpha=1.800010, train accuracy=96.49%\n",
      "alpha=1.800010, test accuracy=94.62%\n",
      "alpha=1.950010, train accuracy=96.15%\n",
      "alpha=1.950010, test accuracy=94.27%\n",
      "alpha=2.100010, train accuracy=95.91%\n",
      "alpha=2.100010, test accuracy=94.27%\n",
      "alpha=2.250010, train accuracy=95.67%\n",
      "alpha=2.250010, test accuracy=94.09%\n",
      "alpha=2.400010, train accuracy=95.33%\n",
      "alpha=2.400010, test accuracy=93.91%\n",
      "alpha=2.550010, train accuracy=95.09%\n",
      "alpha=2.550010, test accuracy=93.73%\n",
      "alpha=2.700010, train accuracy=94.85%\n",
      "alpha=2.700010, test accuracy=93.37%\n",
      "alpha=2.850010, train accuracy=94.52%\n",
      "alpha=2.850010, test accuracy=92.83%\n",
      "alpha=3.000010, train accuracy=94.12%\n",
      "alpha=3.000010, test accuracy=92.83%\n",
      "alpha=3.150010, train accuracy=93.64%\n",
      "alpha=3.150010, test accuracy=92.11%\n",
      "alpha=3.300010, train accuracy=93.40%\n",
      "alpha=3.300010, test accuracy=91.76%\n",
      "alpha=3.450010, train accuracy=93.22%\n",
      "alpha=3.450010, test accuracy=91.58%\n",
      "alpha=3.600010, train accuracy=92.90%\n",
      "alpha=3.600010, test accuracy=91.22%\n",
      "alpha=3.750010, train accuracy=92.56%\n",
      "alpha=3.750010, test accuracy=90.86%\n",
      "alpha=3.900010, train accuracy=92.24%\n",
      "alpha=3.900010, test accuracy=90.86%\n",
      "alpha=4.050010, train accuracy=92.06%\n",
      "alpha=4.050010, test accuracy=90.86%\n",
      "alpha=4.200010, train accuracy=91.74%\n",
      "alpha=4.200010, test accuracy=90.86%\n",
      "alpha=4.350010, train accuracy=91.60%\n",
      "alpha=4.350010, test accuracy=90.86%\n",
      "alpha=4.500010, train accuracy=91.40%\n",
      "alpha=4.500010, test accuracy=90.14%\n",
      "alpha=4.650010, train accuracy=91.10%\n",
      "alpha=4.650010, test accuracy=89.78%\n",
      "alpha=4.800010, train accuracy=90.73%\n",
      "alpha=4.800010, test accuracy=89.78%\n",
      "alpha=4.950010, train accuracy=90.57%\n",
      "alpha=4.950010, test accuracy=89.61%\n",
      "alpha=5.100010, train accuracy=90.33%\n",
      "alpha=5.100010, test accuracy=89.25%\n",
      "alpha=5.250010, train accuracy=90.15%\n",
      "alpha=5.250010, test accuracy=89.25%\n",
      "alpha=5.400010, train accuracy=89.97%\n",
      "alpha=5.400010, test accuracy=89.25%\n",
      "alpha=5.550010, train accuracy=89.73%\n",
      "alpha=5.550010, test accuracy=89.25%\n",
      "alpha=5.700010, train accuracy=89.53%\n",
      "alpha=5.700010, test accuracy=89.07%\n",
      "alpha=5.850010, train accuracy=89.23%\n",
      "alpha=5.850010, test accuracy=88.89%\n",
      "alpha=6.000010, train accuracy=89.09%\n",
      "alpha=6.000010, test accuracy=88.89%\n",
      "alpha=6.150010, train accuracy=88.97%\n",
      "alpha=6.150010, test accuracy=88.89%\n",
      "alpha=6.300010, train accuracy=88.69%\n",
      "alpha=6.300010, test accuracy=88.89%\n",
      "alpha=6.450010, train accuracy=88.53%\n",
      "alpha=6.450010, test accuracy=88.89%\n",
      "alpha=6.600010, train accuracy=88.43%\n",
      "alpha=6.600010, test accuracy=88.89%\n",
      "alpha=6.750010, train accuracy=88.29%\n",
      "alpha=6.750010, test accuracy=88.71%\n",
      "alpha=6.900010, train accuracy=88.09%\n",
      "alpha=6.900010, test accuracy=88.71%\n",
      "alpha=7.050010, train accuracy=87.93%\n",
      "alpha=7.050010, test accuracy=88.71%\n",
      "alpha=7.200010, train accuracy=87.81%\n",
      "alpha=7.200010, test accuracy=88.35%\n",
      "alpha=7.350010, train accuracy=87.79%\n",
      "alpha=7.350010, test accuracy=88.17%\n",
      "alpha=7.500010, train accuracy=87.71%\n",
      "alpha=7.500010, test accuracy=88.17%\n",
      "alpha=7.650010, train accuracy=87.63%\n",
      "alpha=7.650010, test accuracy=88.17%\n",
      "alpha=7.800010, train accuracy=87.53%\n",
      "alpha=7.800010, test accuracy=87.99%\n",
      "alpha=7.950010, train accuracy=87.50%\n",
      "alpha=7.950010, test accuracy=87.99%\n",
      "alpha=8.100010, train accuracy=87.38%\n",
      "alpha=8.100010, test accuracy=87.99%\n",
      "alpha=8.250010, train accuracy=87.32%\n",
      "alpha=8.250010, test accuracy=87.99%\n",
      "alpha=8.400010, train accuracy=87.26%\n",
      "alpha=8.400010, test accuracy=87.99%\n",
      "alpha=8.550010, train accuracy=87.20%\n",
      "alpha=8.550010, test accuracy=87.81%\n",
      "alpha=8.700010, train accuracy=87.06%\n",
      "alpha=8.700010, test accuracy=87.81%\n",
      "alpha=8.850010, train accuracy=87.04%\n",
      "alpha=8.850010, test accuracy=87.81%\n",
      "alpha=9.000010, train accuracy=87.02%\n",
      "alpha=9.000010, test accuracy=87.81%\n",
      "alpha=9.150010, train accuracy=86.98%\n",
      "alpha=9.150010, test accuracy=87.81%\n",
      "alpha=9.300010, train accuracy=86.90%\n",
      "alpha=9.300010, test accuracy=87.81%\n",
      "alpha=9.450010, train accuracy=86.90%\n",
      "alpha=9.450010, test accuracy=87.81%\n",
      "alpha=9.600010, train accuracy=86.88%\n",
      "alpha=9.600010, test accuracy=87.81%\n",
      "alpha=9.750010, train accuracy=86.86%\n",
      "alpha=9.750010, test accuracy=87.81%\n",
      "alpha=9.900010, train accuracy=86.82%\n",
      "alpha=9.900010, test accuracy=87.63%\n",
      "alpha=10.050010, train accuracy=86.78%\n",
      "alpha=10.050010, test accuracy=87.63%\n",
      "alpha=10.200010, train accuracy=86.74%\n",
      "alpha=10.200010, test accuracy=87.63%\n",
      "alpha=10.350010, train accuracy=86.70%\n",
      "alpha=10.350010, test accuracy=87.63%\n",
      "alpha=10.500010, train accuracy=86.68%\n",
      "alpha=10.500010, test accuracy=87.63%\n",
      "alpha=10.650010, train accuracy=86.68%\n",
      "alpha=10.650010, test accuracy=87.46%\n",
      "alpha=10.800010, train accuracy=86.64%\n",
      "alpha=10.800010, test accuracy=87.46%\n",
      "alpha=10.950010, train accuracy=86.62%\n",
      "alpha=10.950010, test accuracy=87.46%\n",
      "alpha=11.100010, train accuracy=86.62%\n",
      "alpha=11.100010, test accuracy=87.46%\n",
      "alpha=11.250010, train accuracy=86.54%\n",
      "alpha=11.250010, test accuracy=87.46%\n",
      "alpha=11.400010, train accuracy=86.54%\n",
      "alpha=11.400010, test accuracy=87.46%\n",
      "alpha=11.550010, train accuracy=86.54%\n",
      "alpha=11.550010, test accuracy=87.46%\n",
      "alpha=11.700010, train accuracy=86.54%\n",
      "alpha=11.700010, test accuracy=87.46%\n",
      "alpha=11.850010, train accuracy=86.54%\n",
      "alpha=11.850010, test accuracy=87.46%\n",
      "alpha=12.000010, train accuracy=86.50%\n",
      "alpha=12.000010, test accuracy=87.46%\n",
      "alpha=12.150010, train accuracy=86.50%\n",
      "alpha=12.150010, test accuracy=87.46%\n",
      "alpha=12.300010, train accuracy=86.50%\n",
      "alpha=12.300010, test accuracy=87.46%\n",
      "alpha=12.450010, train accuracy=86.50%\n",
      "alpha=12.450010, test accuracy=87.46%\n",
      "alpha=12.600010, train accuracy=86.50%\n",
      "alpha=12.600010, test accuracy=87.46%\n",
      "alpha=12.750010, train accuracy=86.50%\n",
      "alpha=12.750010, test accuracy=87.46%\n",
      "alpha=12.900010, train accuracy=86.50%\n",
      "alpha=12.900010, test accuracy=87.46%\n",
      "alpha=13.050010, train accuracy=86.50%\n",
      "alpha=13.050010, test accuracy=87.46%\n",
      "alpha=13.200010, train accuracy=86.50%\n",
      "alpha=13.200010, test accuracy=87.46%\n",
      "alpha=13.350010, train accuracy=86.50%\n",
      "alpha=13.350010, test accuracy=87.46%\n",
      "alpha=13.500010, train accuracy=86.50%\n",
      "alpha=13.500010, test accuracy=87.46%\n",
      "alpha=13.650010, train accuracy=86.50%\n",
      "alpha=13.650010, test accuracy=87.46%\n",
      "alpha=13.800010, train accuracy=86.50%\n",
      "alpha=13.800010, test accuracy=87.46%\n",
      "alpha=13.950010, train accuracy=86.50%\n",
      "alpha=13.950010, test accuracy=87.46%\n",
      "alpha=14.100010, train accuracy=86.50%\n",
      "alpha=14.100010, test accuracy=87.46%\n",
      "alpha=14.250010, train accuracy=86.50%\n",
      "alpha=14.250010, test accuracy=87.46%\n",
      "alpha=14.400010, train accuracy=86.50%\n",
      "alpha=14.400010, test accuracy=87.46%\n",
      "alpha=14.550010, train accuracy=86.50%\n",
      "alpha=14.550010, test accuracy=87.46%\n",
      "alpha=14.700010, train accuracy=86.50%\n",
      "alpha=14.700010, test accuracy=87.46%\n",
      "alpha=14.850010, train accuracy=86.50%\n",
      "alpha=14.850010, test accuracy=87.46%\n",
      "alpha=15.000010, train accuracy=86.50%\n",
      "alpha=15.000010, test accuracy=87.46%\n",
      "alpha=15.150010, train accuracy=86.50%\n",
      "alpha=15.150010, test accuracy=87.46%\n",
      "alpha=15.300010, train accuracy=86.50%\n",
      "alpha=15.300010, test accuracy=87.46%\n",
      "alpha=15.450010, train accuracy=86.50%\n",
      "alpha=15.450010, test accuracy=87.46%\n",
      "alpha=15.600010, train accuracy=86.50%\n",
      "alpha=15.600010, test accuracy=87.46%\n",
      "alpha=15.750010, train accuracy=86.50%\n",
      "alpha=15.750010, test accuracy=87.46%\n",
      "alpha=15.900010, train accuracy=86.50%\n",
      "alpha=15.900010, test accuracy=87.46%\n",
      "alpha=16.050010, train accuracy=86.50%\n",
      "alpha=16.050010, test accuracy=87.46%\n",
      "alpha=16.200010, train accuracy=86.50%\n",
      "alpha=16.200010, test accuracy=87.46%\n",
      "alpha=16.350010, train accuracy=86.50%\n",
      "alpha=16.350010, test accuracy=87.46%\n",
      "alpha=16.500010, train accuracy=86.50%\n",
      "alpha=16.500010, test accuracy=87.46%\n",
      "alpha=16.650010, train accuracy=86.50%\n",
      "alpha=16.650010, test accuracy=87.46%\n",
      "alpha=16.800010, train accuracy=86.50%\n",
      "alpha=16.800010, test accuracy=87.46%\n",
      "alpha=16.950010, train accuracy=86.50%\n",
      "alpha=16.950010, test accuracy=87.46%\n",
      "alpha=17.100010, train accuracy=86.50%\n",
      "alpha=17.100010, test accuracy=87.46%\n",
      "alpha=17.250010, train accuracy=86.50%\n",
      "alpha=17.250010, test accuracy=87.46%\n",
      "alpha=17.400010, train accuracy=86.50%\n",
      "alpha=17.400010, test accuracy=87.46%\n",
      "alpha=17.550010, train accuracy=86.50%\n",
      "alpha=17.550010, test accuracy=87.46%\n",
      "alpha=17.700010, train accuracy=86.50%\n",
      "alpha=17.700010, test accuracy=87.46%\n",
      "alpha=17.850010, train accuracy=86.50%\n",
      "alpha=17.850010, test accuracy=87.46%\n"
     ]
    },
    {
     "name": "stdout",
     "output_type": "stream",
     "text": [
      "alpha=18.000010, train accuracy=86.50%\n",
      "alpha=18.000010, test accuracy=87.46%\n",
      "alpha=18.150010, train accuracy=86.50%\n",
      "alpha=18.150010, test accuracy=87.46%\n",
      "alpha=18.300010, train accuracy=86.50%\n",
      "alpha=18.300010, test accuracy=87.46%\n",
      "alpha=18.450010, train accuracy=86.50%\n",
      "alpha=18.450010, test accuracy=87.46%\n",
      "alpha=18.600010, train accuracy=86.50%\n",
      "alpha=18.600010, test accuracy=87.46%\n",
      "alpha=18.750010, train accuracy=86.50%\n",
      "alpha=18.750010, test accuracy=87.46%\n",
      "alpha=18.900010, train accuracy=86.50%\n",
      "alpha=18.900010, test accuracy=87.46%\n",
      "alpha=19.050010, train accuracy=86.50%\n",
      "alpha=19.050010, test accuracy=87.46%\n",
      "alpha=19.200010, train accuracy=86.50%\n",
      "alpha=19.200010, test accuracy=87.46%\n",
      "alpha=19.350010, train accuracy=86.50%\n",
      "alpha=19.350010, test accuracy=87.46%\n",
      "alpha=19.500010, train accuracy=86.50%\n",
      "alpha=19.500010, test accuracy=87.46%\n",
      "alpha=19.650010, train accuracy=86.50%\n",
      "alpha=19.650010, test accuracy=87.46%\n",
      "alpha=19.800010, train accuracy=86.50%\n",
      "alpha=19.800010, test accuracy=87.46%\n",
      "alpha=19.950010, train accuracy=86.50%\n",
      "alpha=19.950010, test accuracy=87.46%\n",
      "alpha=20.100010, train accuracy=86.50%\n",
      "alpha=20.100010, test accuracy=87.46%\n",
      "alpha=20.250010, train accuracy=86.50%\n",
      "alpha=20.250010, test accuracy=87.46%\n",
      "alpha=20.400010, train accuracy=86.50%\n",
      "alpha=20.400010, test accuracy=87.46%\n",
      "alpha=20.550010, train accuracy=86.50%\n",
      "alpha=20.550010, test accuracy=87.46%\n",
      "alpha=20.700010, train accuracy=86.50%\n",
      "alpha=20.700010, test accuracy=87.46%\n",
      "alpha=20.850010, train accuracy=86.50%\n",
      "alpha=20.850010, test accuracy=87.46%\n",
      "alpha=21.000010, train accuracy=86.50%\n",
      "alpha=21.000010, test accuracy=87.46%\n",
      "alpha=21.150010, train accuracy=86.50%\n",
      "alpha=21.150010, test accuracy=87.46%\n",
      "alpha=21.300010, train accuracy=86.50%\n",
      "alpha=21.300010, test accuracy=87.46%\n",
      "alpha=21.450010, train accuracy=86.50%\n",
      "alpha=21.450010, test accuracy=87.46%\n",
      "alpha=21.600010, train accuracy=86.50%\n",
      "alpha=21.600010, test accuracy=87.46%\n",
      "alpha=21.750010, train accuracy=86.50%\n",
      "alpha=21.750010, test accuracy=87.46%\n",
      "alpha=21.900010, train accuracy=86.50%\n",
      "alpha=21.900010, test accuracy=87.46%\n",
      "alpha=22.050010, train accuracy=86.50%\n",
      "alpha=22.050010, test accuracy=87.46%\n",
      "alpha=22.200010, train accuracy=86.50%\n",
      "alpha=22.200010, test accuracy=87.46%\n",
      "alpha=22.350010, train accuracy=86.50%\n",
      "alpha=22.350010, test accuracy=87.46%\n",
      "alpha=22.500010, train accuracy=86.50%\n",
      "alpha=22.500010, test accuracy=87.46%\n",
      "alpha=22.650010, train accuracy=86.50%\n",
      "alpha=22.650010, test accuracy=87.46%\n",
      "alpha=22.800010, train accuracy=86.50%\n",
      "alpha=22.800010, test accuracy=87.46%\n",
      "alpha=22.950010, train accuracy=86.50%\n",
      "alpha=22.950010, test accuracy=87.46%\n",
      "alpha=23.100010, train accuracy=86.50%\n",
      "alpha=23.100010, test accuracy=87.46%\n",
      "alpha=23.250010, train accuracy=86.50%\n",
      "alpha=23.250010, test accuracy=87.46%\n",
      "alpha=23.400010, train accuracy=86.50%\n",
      "alpha=23.400010, test accuracy=87.46%\n",
      "alpha=23.550010, train accuracy=86.50%\n",
      "alpha=23.550010, test accuracy=87.46%\n",
      "alpha=23.700010, train accuracy=86.50%\n",
      "alpha=23.700010, test accuracy=87.46%\n",
      "alpha=23.850010, train accuracy=86.50%\n",
      "alpha=23.850010, test accuracy=87.46%\n",
      "alpha=24.000010, train accuracy=86.50%\n",
      "alpha=24.000010, test accuracy=87.46%\n",
      "alpha=24.150010, train accuracy=86.50%\n",
      "alpha=24.150010, test accuracy=87.46%\n",
      "alpha=24.300010, train accuracy=86.50%\n",
      "alpha=24.300010, test accuracy=87.46%\n",
      "alpha=24.450010, train accuracy=86.50%\n",
      "alpha=24.450010, test accuracy=87.46%\n",
      "alpha=24.600010, train accuracy=86.50%\n",
      "alpha=24.600010, test accuracy=87.46%\n",
      "alpha=24.750010, train accuracy=86.50%\n",
      "alpha=24.750010, test accuracy=87.46%\n",
      "alpha=24.900010, train accuracy=86.50%\n",
      "alpha=24.900010, test accuracy=87.46%\n",
      "alpha=25.050010, train accuracy=86.50%\n",
      "alpha=25.050010, test accuracy=87.46%\n",
      "alpha=25.200010, train accuracy=86.50%\n",
      "alpha=25.200010, test accuracy=87.46%\n",
      "alpha=25.350010, train accuracy=86.50%\n",
      "alpha=25.350010, test accuracy=87.46%\n",
      "alpha=25.500010, train accuracy=86.50%\n",
      "alpha=25.500010, test accuracy=87.46%\n",
      "alpha=25.650010, train accuracy=86.50%\n",
      "alpha=25.650010, test accuracy=87.46%\n",
      "alpha=25.800010, train accuracy=86.50%\n",
      "alpha=25.800010, test accuracy=87.46%\n",
      "alpha=25.950010, train accuracy=86.50%\n",
      "alpha=25.950010, test accuracy=87.46%\n",
      "alpha=26.100010, train accuracy=86.50%\n",
      "alpha=26.100010, test accuracy=87.46%\n",
      "alpha=26.250010, train accuracy=86.50%\n",
      "alpha=26.250010, test accuracy=87.46%\n",
      "alpha=26.400010, train accuracy=86.50%\n",
      "alpha=26.400010, test accuracy=87.46%\n",
      "alpha=26.550010, train accuracy=86.50%\n",
      "alpha=26.550010, test accuracy=87.46%\n",
      "alpha=26.700010, train accuracy=86.50%\n",
      "alpha=26.700010, test accuracy=87.46%\n",
      "alpha=26.850010, train accuracy=86.50%\n",
      "alpha=26.850010, test accuracy=87.46%\n",
      "alpha=27.000010, train accuracy=86.50%\n",
      "alpha=27.000010, test accuracy=87.46%\n",
      "alpha=27.150010, train accuracy=86.50%\n",
      "alpha=27.150010, test accuracy=87.46%\n",
      "alpha=27.300010, train accuracy=86.50%\n",
      "alpha=27.300010, test accuracy=87.46%\n",
      "alpha=27.450010, train accuracy=86.50%\n",
      "alpha=27.450010, test accuracy=87.46%\n",
      "alpha=27.600010, train accuracy=86.50%\n",
      "alpha=27.600010, test accuracy=87.46%\n",
      "alpha=27.750010, train accuracy=86.50%\n",
      "alpha=27.750010, test accuracy=87.46%\n",
      "alpha=27.900010, train accuracy=86.50%\n",
      "alpha=27.900010, test accuracy=87.46%\n",
      "alpha=28.050010, train accuracy=86.50%\n",
      "alpha=28.050010, test accuracy=87.46%\n",
      "alpha=28.200010, train accuracy=86.50%\n",
      "alpha=28.200010, test accuracy=87.46%\n",
      "alpha=28.350010, train accuracy=86.50%\n",
      "alpha=28.350010, test accuracy=87.46%\n",
      "alpha=28.500010, train accuracy=86.50%\n",
      "alpha=28.500010, test accuracy=87.46%\n",
      "alpha=28.650010, train accuracy=86.50%\n",
      "alpha=28.650010, test accuracy=87.46%\n",
      "alpha=28.800010, train accuracy=86.50%\n",
      "alpha=28.800010, test accuracy=87.46%\n",
      "alpha=28.950010, train accuracy=86.50%\n",
      "alpha=28.950010, test accuracy=87.46%\n",
      "alpha=29.100010, train accuracy=86.50%\n",
      "alpha=29.100010, test accuracy=87.46%\n",
      "alpha=29.250010, train accuracy=86.50%\n",
      "alpha=29.250010, test accuracy=87.46%\n",
      "alpha=29.400010, train accuracy=86.50%\n",
      "alpha=29.400010, test accuracy=87.46%\n",
      "alpha=29.550010, train accuracy=86.50%\n",
      "alpha=29.550010, test accuracy=87.46%\n",
      "alpha=29.700010, train accuracy=86.50%\n",
      "alpha=29.700010, test accuracy=87.46%\n",
      "alpha=29.850010, train accuracy=86.50%\n",
      "alpha=29.850010, test accuracy=87.46%\n",
      "alpha=30.000010, train accuracy=86.50%\n",
      "alpha=30.000010, test accuracy=87.46%\n",
      "alpha=30.150010, train accuracy=86.50%\n",
      "alpha=30.150010, test accuracy=87.46%\n",
      "alpha=30.300010, train accuracy=86.50%\n",
      "alpha=30.300010, test accuracy=87.46%\n",
      "alpha=30.450010, train accuracy=86.50%\n",
      "alpha=30.450010, test accuracy=87.46%\n",
      "alpha=30.600010, train accuracy=86.50%\n",
      "alpha=30.600010, test accuracy=87.46%\n",
      "alpha=30.750010, train accuracy=86.50%\n",
      "alpha=30.750010, test accuracy=87.46%\n",
      "alpha=30.900010, train accuracy=86.50%\n",
      "alpha=30.900010, test accuracy=87.46%\n",
      "alpha=31.050010, train accuracy=86.50%\n",
      "alpha=31.050010, test accuracy=87.46%\n",
      "alpha=31.200010, train accuracy=86.50%\n",
      "alpha=31.200010, test accuracy=87.46%\n",
      "alpha=31.350010, train accuracy=86.50%\n",
      "alpha=31.350010, test accuracy=87.46%\n",
      "alpha=31.500010, train accuracy=86.50%\n",
      "alpha=31.500010, test accuracy=87.46%\n",
      "alpha=31.650010, train accuracy=86.50%\n",
      "alpha=31.650010, test accuracy=87.46%\n",
      "alpha=31.800010, train accuracy=86.50%\n",
      "alpha=31.800010, test accuracy=87.46%\n",
      "alpha=31.950010, train accuracy=86.50%\n",
      "alpha=31.950010, test accuracy=87.46%\n",
      "alpha=32.100010, train accuracy=86.50%\n",
      "alpha=32.100010, test accuracy=87.46%\n",
      "alpha=32.250010, train accuracy=86.50%\n",
      "alpha=32.250010, test accuracy=87.46%\n",
      "alpha=32.400010, train accuracy=86.50%\n",
      "alpha=32.400010, test accuracy=87.46%\n",
      "alpha=32.550010, train accuracy=86.50%\n",
      "alpha=32.550010, test accuracy=87.46%\n",
      "alpha=32.700010, train accuracy=86.50%\n",
      "alpha=32.700010, test accuracy=87.46%\n",
      "alpha=32.850010, train accuracy=86.50%\n",
      "alpha=32.850010, test accuracy=87.46%\n",
      "alpha=33.000010, train accuracy=86.50%\n",
      "alpha=33.000010, test accuracy=87.46%\n",
      "alpha=33.150010, train accuracy=86.50%\n",
      "alpha=33.150010, test accuracy=87.46%\n",
      "alpha=33.300010, train accuracy=86.50%\n",
      "alpha=33.300010, test accuracy=87.46%\n",
      "alpha=33.450010, train accuracy=86.50%\n",
      "alpha=33.450010, test accuracy=87.46%\n",
      "alpha=33.600010, train accuracy=86.50%\n",
      "alpha=33.600010, test accuracy=87.46%\n",
      "alpha=33.750010, train accuracy=86.50%\n",
      "alpha=33.750010, test accuracy=87.46%\n",
      "alpha=33.900010, train accuracy=86.50%\n",
      "alpha=33.900010, test accuracy=87.46%\n",
      "alpha=34.050010, train accuracy=86.50%\n",
      "alpha=34.050010, test accuracy=87.46%\n",
      "alpha=34.200010, train accuracy=86.50%\n",
      "alpha=34.200010, test accuracy=87.46%\n",
      "alpha=34.350010, train accuracy=86.50%\n",
      "alpha=34.350010, test accuracy=87.46%\n",
      "alpha=34.500010, train accuracy=86.50%\n",
      "alpha=34.500010, test accuracy=87.46%\n",
      "alpha=34.650010, train accuracy=86.50%\n",
      "alpha=34.650010, test accuracy=87.46%\n",
      "alpha=34.800010, train accuracy=86.50%\n",
      "alpha=34.800010, test accuracy=87.46%\n",
      "alpha=34.950010, train accuracy=86.50%\n",
      "alpha=34.950010, test accuracy=87.46%\n",
      "alpha=35.100010, train accuracy=86.50%\n",
      "alpha=35.100010, test accuracy=87.46%\n",
      "alpha=35.250010, train accuracy=86.50%\n",
      "alpha=35.250010, test accuracy=87.46%\n",
      "alpha=35.400010, train accuracy=86.50%\n",
      "alpha=35.400010, test accuracy=87.46%\n"
     ]
    },
    {
     "name": "stdout",
     "output_type": "stream",
     "text": [
      "alpha=35.550010, train accuracy=86.50%\n",
      "alpha=35.550010, test accuracy=87.46%\n",
      "alpha=35.700010, train accuracy=86.50%\n",
      "alpha=35.700010, test accuracy=87.46%\n",
      "alpha=35.850010, train accuracy=86.50%\n",
      "alpha=35.850010, test accuracy=87.46%\n",
      "alpha=36.000010, train accuracy=86.50%\n",
      "alpha=36.000010, test accuracy=87.46%\n",
      "alpha=36.150010, train accuracy=86.50%\n",
      "alpha=36.150010, test accuracy=87.46%\n",
      "alpha=36.300010, train accuracy=86.50%\n",
      "alpha=36.300010, test accuracy=87.46%\n",
      "alpha=36.450010, train accuracy=86.50%\n",
      "alpha=36.450010, test accuracy=87.46%\n",
      "alpha=36.600010, train accuracy=86.50%\n",
      "alpha=36.600010, test accuracy=87.46%\n",
      "alpha=36.750010, train accuracy=86.50%\n",
      "alpha=36.750010, test accuracy=87.46%\n",
      "alpha=36.900010, train accuracy=86.50%\n",
      "alpha=36.900010, test accuracy=87.46%\n",
      "alpha=37.050010, train accuracy=86.50%\n",
      "alpha=37.050010, test accuracy=87.46%\n",
      "alpha=37.200010, train accuracy=86.50%\n",
      "alpha=37.200010, test accuracy=87.46%\n",
      "alpha=37.350010, train accuracy=86.50%\n",
      "alpha=37.350010, test accuracy=87.46%\n",
      "alpha=37.500010, train accuracy=86.50%\n",
      "alpha=37.500010, test accuracy=87.46%\n",
      "alpha=37.650010, train accuracy=86.50%\n",
      "alpha=37.650010, test accuracy=87.46%\n",
      "alpha=37.800010, train accuracy=86.50%\n",
      "alpha=37.800010, test accuracy=87.46%\n",
      "alpha=37.950010, train accuracy=86.50%\n",
      "alpha=37.950010, test accuracy=87.46%\n",
      "alpha=38.100010, train accuracy=86.50%\n",
      "alpha=38.100010, test accuracy=87.46%\n",
      "alpha=38.250010, train accuracy=86.50%\n",
      "alpha=38.250010, test accuracy=87.46%\n",
      "alpha=38.400010, train accuracy=86.50%\n",
      "alpha=38.400010, test accuracy=87.46%\n",
      "alpha=38.550010, train accuracy=86.50%\n",
      "alpha=38.550010, test accuracy=87.46%\n",
      "alpha=38.700010, train accuracy=86.50%\n",
      "alpha=38.700010, test accuracy=87.46%\n",
      "alpha=38.850010, train accuracy=86.50%\n",
      "alpha=38.850010, test accuracy=87.46%\n",
      "alpha=39.000010, train accuracy=86.50%\n",
      "alpha=39.000010, test accuracy=87.46%\n",
      "alpha=39.150010, train accuracy=86.50%\n",
      "alpha=39.150010, test accuracy=87.46%\n",
      "alpha=39.300010, train accuracy=86.50%\n",
      "alpha=39.300010, test accuracy=87.46%\n",
      "alpha=39.450010, train accuracy=86.50%\n",
      "alpha=39.450010, test accuracy=87.46%\n",
      "alpha=39.600010, train accuracy=86.50%\n",
      "alpha=39.600010, test accuracy=87.46%\n",
      "alpha=39.750010, train accuracy=86.50%\n",
      "alpha=39.750010, test accuracy=87.46%\n",
      "alpha=39.900010, train accuracy=86.50%\n",
      "alpha=39.900010, test accuracy=87.46%\n",
      "alpha=40.050010, train accuracy=86.50%\n",
      "alpha=40.050010, test accuracy=87.46%\n",
      "alpha=40.200010, train accuracy=86.50%\n",
      "alpha=40.200010, test accuracy=87.46%\n",
      "alpha=40.350010, train accuracy=86.50%\n",
      "alpha=40.350010, test accuracy=87.46%\n",
      "alpha=40.500010, train accuracy=86.50%\n",
      "alpha=40.500010, test accuracy=87.46%\n",
      "alpha=40.650010, train accuracy=86.50%\n",
      "alpha=40.650010, test accuracy=87.46%\n",
      "alpha=40.800010, train accuracy=86.50%\n",
      "alpha=40.800010, test accuracy=87.46%\n",
      "alpha=40.950010, train accuracy=86.50%\n",
      "alpha=40.950010, test accuracy=87.46%\n",
      "alpha=41.100010, train accuracy=86.50%\n",
      "alpha=41.100010, test accuracy=87.46%\n",
      "alpha=41.250010, train accuracy=86.50%\n",
      "alpha=41.250010, test accuracy=87.46%\n",
      "alpha=41.400010, train accuracy=86.50%\n",
      "alpha=41.400010, test accuracy=87.46%\n",
      "alpha=41.550010, train accuracy=86.50%\n",
      "alpha=41.550010, test accuracy=87.46%\n",
      "alpha=41.700010, train accuracy=86.50%\n",
      "alpha=41.700010, test accuracy=87.46%\n",
      "alpha=41.850010, train accuracy=86.50%\n",
      "alpha=41.850010, test accuracy=87.46%\n",
      "alpha=42.000010, train accuracy=86.50%\n",
      "alpha=42.000010, test accuracy=87.46%\n",
      "alpha=42.150010, train accuracy=86.50%\n",
      "alpha=42.150010, test accuracy=87.46%\n",
      "alpha=42.300010, train accuracy=86.50%\n",
      "alpha=42.300010, test accuracy=87.46%\n",
      "alpha=42.450010, train accuracy=86.50%\n",
      "alpha=42.450010, test accuracy=87.46%\n",
      "alpha=42.600010, train accuracy=86.50%\n",
      "alpha=42.600010, test accuracy=87.46%\n",
      "alpha=42.750010, train accuracy=86.50%\n",
      "alpha=42.750010, test accuracy=87.46%\n",
      "alpha=42.900010, train accuracy=86.50%\n",
      "alpha=42.900010, test accuracy=87.46%\n",
      "alpha=43.050010, train accuracy=86.50%\n",
      "alpha=43.050010, test accuracy=87.46%\n",
      "alpha=43.200010, train accuracy=86.50%\n",
      "alpha=43.200010, test accuracy=87.46%\n",
      "alpha=43.350010, train accuracy=86.50%\n",
      "alpha=43.350010, test accuracy=87.46%\n",
      "alpha=43.500010, train accuracy=86.50%\n",
      "alpha=43.500010, test accuracy=87.46%\n",
      "alpha=43.650010, train accuracy=86.50%\n",
      "alpha=43.650010, test accuracy=87.46%\n",
      "alpha=43.800010, train accuracy=86.50%\n",
      "alpha=43.800010, test accuracy=87.46%\n",
      "alpha=43.950010, train accuracy=86.50%\n",
      "alpha=43.950010, test accuracy=87.46%\n",
      "alpha=44.100010, train accuracy=86.50%\n",
      "alpha=44.100010, test accuracy=87.46%\n",
      "alpha=44.250010, train accuracy=86.50%\n",
      "alpha=44.250010, test accuracy=87.46%\n",
      "alpha=44.400010, train accuracy=86.50%\n",
      "alpha=44.400010, test accuracy=87.46%\n",
      "alpha=44.550010, train accuracy=86.50%\n",
      "alpha=44.550010, test accuracy=87.46%\n",
      "alpha=44.700010, train accuracy=86.50%\n",
      "alpha=44.700010, test accuracy=87.46%\n",
      "alpha=44.850010, train accuracy=86.50%\n",
      "alpha=44.850010, test accuracy=87.46%\n",
      "alpha=45.000010, train accuracy=86.50%\n",
      "alpha=45.000010, test accuracy=87.46%\n",
      "alpha=45.150010, train accuracy=86.50%\n",
      "alpha=45.150010, test accuracy=87.46%\n",
      "alpha=45.300010, train accuracy=86.50%\n",
      "alpha=45.300010, test accuracy=87.46%\n",
      "alpha=45.450010, train accuracy=86.50%\n",
      "alpha=45.450010, test accuracy=87.46%\n",
      "alpha=45.600010, train accuracy=86.50%\n",
      "alpha=45.600010, test accuracy=87.46%\n",
      "alpha=45.750010, train accuracy=86.50%\n",
      "alpha=45.750010, test accuracy=87.46%\n",
      "alpha=45.900010, train accuracy=86.50%\n",
      "alpha=45.900010, test accuracy=87.46%\n",
      "alpha=46.050010, train accuracy=86.50%\n",
      "alpha=46.050010, test accuracy=87.46%\n",
      "alpha=46.200010, train accuracy=86.50%\n",
      "alpha=46.200010, test accuracy=87.46%\n",
      "alpha=46.350010, train accuracy=86.50%\n",
      "alpha=46.350010, test accuracy=87.46%\n",
      "alpha=46.500010, train accuracy=86.50%\n",
      "alpha=46.500010, test accuracy=87.46%\n",
      "alpha=46.650010, train accuracy=86.50%\n",
      "alpha=46.650010, test accuracy=87.46%\n",
      "alpha=46.800010, train accuracy=86.50%\n",
      "alpha=46.800010, test accuracy=87.46%\n",
      "alpha=46.950010, train accuracy=86.50%\n",
      "alpha=46.950010, test accuracy=87.46%\n",
      "alpha=47.100010, train accuracy=86.50%\n",
      "alpha=47.100010, test accuracy=87.46%\n",
      "alpha=47.250010, train accuracy=86.50%\n",
      "alpha=47.250010, test accuracy=87.46%\n",
      "alpha=47.400010, train accuracy=86.50%\n",
      "alpha=47.400010, test accuracy=87.46%\n",
      "alpha=47.550010, train accuracy=86.50%\n",
      "alpha=47.550010, test accuracy=87.46%\n",
      "alpha=47.700010, train accuracy=86.50%\n",
      "alpha=47.700010, test accuracy=87.46%\n",
      "alpha=47.850010, train accuracy=86.50%\n",
      "alpha=47.850010, test accuracy=87.46%\n",
      "alpha=48.000010, train accuracy=86.50%\n",
      "alpha=48.000010, test accuracy=87.46%\n",
      "alpha=48.150010, train accuracy=86.50%\n",
      "alpha=48.150010, test accuracy=87.46%\n",
      "alpha=48.300010, train accuracy=86.50%\n",
      "alpha=48.300010, test accuracy=87.46%\n",
      "alpha=48.450010, train accuracy=86.50%\n",
      "alpha=48.450010, test accuracy=87.46%\n",
      "alpha=48.600010, train accuracy=86.50%\n",
      "alpha=48.600010, test accuracy=87.46%\n",
      "alpha=48.750010, train accuracy=86.50%\n",
      "alpha=48.750010, test accuracy=87.46%\n",
      "alpha=48.900010, train accuracy=86.50%\n",
      "alpha=48.900010, test accuracy=87.46%\n",
      "alpha=49.050010, train accuracy=86.50%\n",
      "alpha=49.050010, test accuracy=87.46%\n",
      "alpha=49.200010, train accuracy=86.50%\n",
      "alpha=49.200010, test accuracy=87.46%\n",
      "alpha=49.350010, train accuracy=86.50%\n",
      "alpha=49.350010, test accuracy=87.46%\n",
      "alpha=49.500010, train accuracy=86.50%\n",
      "alpha=49.500010, test accuracy=87.46%\n",
      "alpha=49.650010, train accuracy=86.50%\n",
      "alpha=49.650010, test accuracy=87.46%\n",
      "alpha=49.800010, train accuracy=86.50%\n",
      "alpha=49.800010, test accuracy=87.46%\n",
      "alpha=49.950010, train accuracy=86.50%\n",
      "alpha=49.950010, test accuracy=87.46%\n",
      "alpha=50.100010, train accuracy=86.50%\n",
      "alpha=50.100010, test accuracy=87.46%\n",
      "alpha=50.250010, train accuracy=86.50%\n",
      "alpha=50.250010, test accuracy=87.46%\n",
      "alpha=50.400010, train accuracy=86.50%\n",
      "alpha=50.400010, test accuracy=87.46%\n",
      "alpha=50.550010, train accuracy=86.50%\n",
      "alpha=50.550010, test accuracy=87.46%\n",
      "alpha=50.700010, train accuracy=86.50%\n",
      "alpha=50.700010, test accuracy=87.46%\n",
      "alpha=50.850010, train accuracy=86.50%\n",
      "alpha=50.850010, test accuracy=87.46%\n",
      "alpha=51.000010, train accuracy=86.50%\n",
      "alpha=51.000010, test accuracy=87.46%\n",
      "alpha=51.150010, train accuracy=86.50%\n",
      "alpha=51.150010, test accuracy=87.46%\n",
      "alpha=51.300010, train accuracy=86.50%\n",
      "alpha=51.300010, test accuracy=87.46%\n",
      "alpha=51.450010, train accuracy=86.50%\n",
      "alpha=51.450010, test accuracy=87.46%\n",
      "alpha=51.600010, train accuracy=86.50%\n",
      "alpha=51.600010, test accuracy=87.46%\n",
      "alpha=51.750010, train accuracy=86.50%\n",
      "alpha=51.750010, test accuracy=87.46%\n",
      "alpha=51.900010, train accuracy=86.50%\n",
      "alpha=51.900010, test accuracy=87.46%\n",
      "alpha=52.050010, train accuracy=86.50%\n",
      "alpha=52.050010, test accuracy=87.46%\n",
      "alpha=52.200010, train accuracy=86.50%\n",
      "alpha=52.200010, test accuracy=87.46%\n",
      "alpha=52.350010, train accuracy=86.50%\n",
      "alpha=52.350010, test accuracy=87.46%\n",
      "alpha=52.500010, train accuracy=86.50%\n",
      "alpha=52.500010, test accuracy=87.46%\n",
      "alpha=52.650010, train accuracy=86.50%\n",
      "alpha=52.650010, test accuracy=87.46%\n",
      "alpha=52.800010, train accuracy=86.50%\n",
      "alpha=52.800010, test accuracy=87.46%\n",
      "alpha=52.950010, train accuracy=86.50%\n",
      "alpha=52.950010, test accuracy=87.46%\n",
      "alpha=53.100010, train accuracy=86.50%\n",
      "alpha=53.100010, test accuracy=87.46%\n"
     ]
    },
    {
     "name": "stdout",
     "output_type": "stream",
     "text": [
      "alpha=53.250010, train accuracy=86.50%\n",
      "alpha=53.250010, test accuracy=87.46%\n",
      "alpha=53.400010, train accuracy=86.50%\n",
      "alpha=53.400010, test accuracy=87.46%\n",
      "alpha=53.550010, train accuracy=86.50%\n",
      "alpha=53.550010, test accuracy=87.46%\n",
      "alpha=53.700010, train accuracy=86.50%\n",
      "alpha=53.700010, test accuracy=87.46%\n",
      "alpha=53.850010, train accuracy=86.50%\n",
      "alpha=53.850010, test accuracy=87.46%\n",
      "alpha=54.000010, train accuracy=86.50%\n",
      "alpha=54.000010, test accuracy=87.46%\n",
      "alpha=54.150010, train accuracy=86.50%\n",
      "alpha=54.150010, test accuracy=87.46%\n",
      "alpha=54.300010, train accuracy=86.50%\n",
      "alpha=54.300010, test accuracy=87.46%\n",
      "alpha=54.450010, train accuracy=86.50%\n",
      "alpha=54.450010, test accuracy=87.46%\n",
      "alpha=54.600010, train accuracy=86.50%\n",
      "alpha=54.600010, test accuracy=87.46%\n",
      "alpha=54.750010, train accuracy=86.50%\n",
      "alpha=54.750010, test accuracy=87.46%\n",
      "alpha=54.900010, train accuracy=86.50%\n",
      "alpha=54.900010, test accuracy=87.46%\n",
      "alpha=55.050010, train accuracy=86.50%\n",
      "alpha=55.050010, test accuracy=87.46%\n",
      "alpha=55.200010, train accuracy=86.50%\n",
      "alpha=55.200010, test accuracy=87.46%\n",
      "alpha=55.350010, train accuracy=86.50%\n",
      "alpha=55.350010, test accuracy=87.46%\n",
      "alpha=55.500010, train accuracy=86.50%\n",
      "alpha=55.500010, test accuracy=87.46%\n",
      "alpha=55.650010, train accuracy=86.50%\n",
      "alpha=55.650010, test accuracy=87.46%\n",
      "alpha=55.800010, train accuracy=86.50%\n",
      "alpha=55.800010, test accuracy=87.46%\n",
      "alpha=55.950010, train accuracy=86.50%\n",
      "alpha=55.950010, test accuracy=87.46%\n",
      "alpha=56.100010, train accuracy=86.50%\n",
      "alpha=56.100010, test accuracy=87.46%\n",
      "alpha=56.250010, train accuracy=86.50%\n",
      "alpha=56.250010, test accuracy=87.46%\n",
      "alpha=56.400010, train accuracy=86.50%\n",
      "alpha=56.400010, test accuracy=87.46%\n",
      "alpha=56.550010, train accuracy=86.50%\n",
      "alpha=56.550010, test accuracy=87.46%\n",
      "alpha=56.700010, train accuracy=86.50%\n",
      "alpha=56.700010, test accuracy=87.46%\n",
      "alpha=56.850010, train accuracy=86.50%\n",
      "alpha=56.850010, test accuracy=87.46%\n",
      "alpha=57.000010, train accuracy=86.50%\n",
      "alpha=57.000010, test accuracy=87.46%\n",
      "alpha=57.150010, train accuracy=86.50%\n",
      "alpha=57.150010, test accuracy=87.46%\n",
      "alpha=57.300010, train accuracy=86.50%\n",
      "alpha=57.300010, test accuracy=87.46%\n",
      "alpha=57.450010, train accuracy=86.50%\n",
      "alpha=57.450010, test accuracy=87.46%\n",
      "alpha=57.600010, train accuracy=86.50%\n",
      "alpha=57.600010, test accuracy=87.46%\n",
      "alpha=57.750010, train accuracy=86.50%\n",
      "alpha=57.750010, test accuracy=87.46%\n",
      "alpha=57.900010, train accuracy=86.50%\n",
      "alpha=57.900010, test accuracy=87.46%\n",
      "alpha=58.050010, train accuracy=86.50%\n",
      "alpha=58.050010, test accuracy=87.46%\n",
      "alpha=58.200010, train accuracy=86.50%\n",
      "alpha=58.200010, test accuracy=87.46%\n",
      "alpha=58.350010, train accuracy=86.50%\n",
      "alpha=58.350010, test accuracy=87.46%\n",
      "alpha=58.500010, train accuracy=86.50%\n",
      "alpha=58.500010, test accuracy=87.46%\n",
      "alpha=58.650010, train accuracy=86.50%\n",
      "alpha=58.650010, test accuracy=87.46%\n",
      "alpha=58.800010, train accuracy=86.50%\n",
      "alpha=58.800010, test accuracy=87.46%\n",
      "alpha=58.950010, train accuracy=86.50%\n",
      "alpha=58.950010, test accuracy=87.46%\n",
      "alpha=59.100010, train accuracy=86.50%\n",
      "alpha=59.100010, test accuracy=87.46%\n",
      "alpha=59.250010, train accuracy=86.50%\n",
      "alpha=59.250010, test accuracy=87.46%\n",
      "alpha=59.400010, train accuracy=86.50%\n",
      "alpha=59.400010, test accuracy=87.46%\n",
      "alpha=59.550010, train accuracy=86.50%\n",
      "alpha=59.550010, test accuracy=87.46%\n",
      "alpha=59.700010, train accuracy=86.50%\n",
      "alpha=59.700010, test accuracy=87.46%\n",
      "alpha=59.850010, train accuracy=86.50%\n",
      "alpha=59.850010, test accuracy=87.46%\n"
     ]
    }
   ],
   "source": [
    "import warnings\n",
    "warnings.filterwarnings('ignore')\n",
    "list_alpha = np.arange(1/100000, 60, 0.15)\n",
    "trainaccuricies = np.zeros(len(list_alpha))\n",
    "testaccuricies = np.zeros(len(list_alpha))\n",
    "recall_test = np.zeros(len(list_alpha))\n",
    "precision_test= np.zeros(len(list_alpha))\n",
    "count = 0\n",
    "for alpha in list_alpha:\n",
    "    bayes = naive_bayes.MultinomialNB(alpha=alpha)\n",
    "    bayes.fit(trainX, trainY)\n",
    "    trainaccuricies[count]=score1= bayes.score(trainX, trainY)\n",
    "    testaccuricies[count]=score2=bayes.score(testX, testY)\n",
    "    print(\"alpha=%f, train accuracy=%.2f%%\" % (alpha, score1 * 100))\n",
    "    print(\"alpha=%f, test accuracy=%.2f%%\" % (alpha, score2 * 100))\n",
    "    recall_test[count] = metrics.recall_score(testY, bayes.predict(testX))\n",
    "    precision_test[count] = metrics.precision_score(testY, bayes.predict(testX))\n",
    "    count = count + 1 "
   ]
  },
  {
   "cell_type": "markdown",
   "metadata": {},
   "source": [
    "Lets construct a result matrix,so that we can easily choose the alpha parameter with highest accuracy & precision"
   ]
  },
  {
   "cell_type": "code",
   "execution_count": 55,
   "metadata": {},
   "outputs": [
    {
     "data": {
      "text/html": [
       "<div>\n",
       "<style scoped>\n",
       "    .dataframe tbody tr th:only-of-type {\n",
       "        vertical-align: middle;\n",
       "    }\n",
       "\n",
       "    .dataframe tbody tr th {\n",
       "        vertical-align: top;\n",
       "    }\n",
       "\n",
       "    .dataframe thead th {\n",
       "        text-align: right;\n",
       "    }\n",
       "</style>\n",
       "<table border=\"1\" class=\"dataframe\">\n",
       "  <thead>\n",
       "    <tr style=\"text-align: right;\">\n",
       "      <th></th>\n",
       "      <th>alpha</th>\n",
       "      <th>Train Accuracy</th>\n",
       "      <th>Test Accuracy</th>\n",
       "      <th>Test Recall</th>\n",
       "      <th>Test Precision</th>\n",
       "    </tr>\n",
       "  </thead>\n",
       "  <tbody>\n",
       "    <tr>\n",
       "      <th>0</th>\n",
       "      <td>0.00001</td>\n",
       "      <td>0.998803</td>\n",
       "      <td>0.971326</td>\n",
       "      <td>0.900000</td>\n",
       "      <td>0.875000</td>\n",
       "    </tr>\n",
       "    <tr>\n",
       "      <th>1</th>\n",
       "      <td>0.15001</td>\n",
       "      <td>0.997806</td>\n",
       "      <td>0.982079</td>\n",
       "      <td>0.942857</td>\n",
       "      <td>0.916667</td>\n",
       "    </tr>\n",
       "    <tr>\n",
       "      <th>2</th>\n",
       "      <td>0.30001</td>\n",
       "      <td>0.995812</td>\n",
       "      <td>0.983871</td>\n",
       "      <td>0.914286</td>\n",
       "      <td>0.955224</td>\n",
       "    </tr>\n",
       "    <tr>\n",
       "      <th>3</th>\n",
       "      <td>0.45001</td>\n",
       "      <td>0.993817</td>\n",
       "      <td>0.982079</td>\n",
       "      <td>0.885714</td>\n",
       "      <td>0.968750</td>\n",
       "    </tr>\n",
       "    <tr>\n",
       "      <th>4</th>\n",
       "      <td>0.60001</td>\n",
       "      <td>0.991823</td>\n",
       "      <td>0.974910</td>\n",
       "      <td>0.828571</td>\n",
       "      <td>0.966667</td>\n",
       "    </tr>\n",
       "    <tr>\n",
       "      <th>5</th>\n",
       "      <td>0.75001</td>\n",
       "      <td>0.987435</td>\n",
       "      <td>0.973118</td>\n",
       "      <td>0.800000</td>\n",
       "      <td>0.982456</td>\n",
       "    </tr>\n",
       "    <tr>\n",
       "      <th>6</th>\n",
       "      <td>0.90001</td>\n",
       "      <td>0.983646</td>\n",
       "      <td>0.967742</td>\n",
       "      <td>0.757143</td>\n",
       "      <td>0.981481</td>\n",
       "    </tr>\n",
       "    <tr>\n",
       "      <th>7</th>\n",
       "      <td>1.05001</td>\n",
       "      <td>0.981651</td>\n",
       "      <td>0.962366</td>\n",
       "      <td>0.714286</td>\n",
       "      <td>0.980392</td>\n",
       "    </tr>\n",
       "    <tr>\n",
       "      <th>8</th>\n",
       "      <td>1.20001</td>\n",
       "      <td>0.980056</td>\n",
       "      <td>0.962366</td>\n",
       "      <td>0.700000</td>\n",
       "      <td>1.000000</td>\n",
       "    </tr>\n",
       "    <tr>\n",
       "      <th>9</th>\n",
       "      <td>1.35001</td>\n",
       "      <td>0.977862</td>\n",
       "      <td>0.956989</td>\n",
       "      <td>0.657143</td>\n",
       "      <td>1.000000</td>\n",
       "    </tr>\n",
       "    <tr>\n",
       "      <th>10</th>\n",
       "      <td>1.50001</td>\n",
       "      <td>0.974471</td>\n",
       "      <td>0.953405</td>\n",
       "      <td>0.628571</td>\n",
       "      <td>1.000000</td>\n",
       "    </tr>\n",
       "    <tr>\n",
       "      <th>11</th>\n",
       "      <td>1.65001</td>\n",
       "      <td>0.969087</td>\n",
       "      <td>0.949821</td>\n",
       "      <td>0.600000</td>\n",
       "      <td>1.000000</td>\n",
       "    </tr>\n",
       "    <tr>\n",
       "      <th>12</th>\n",
       "      <td>1.80001</td>\n",
       "      <td>0.964898</td>\n",
       "      <td>0.946237</td>\n",
       "      <td>0.571429</td>\n",
       "      <td>1.000000</td>\n",
       "    </tr>\n",
       "    <tr>\n",
       "      <th>13</th>\n",
       "      <td>1.95001</td>\n",
       "      <td>0.961508</td>\n",
       "      <td>0.942652</td>\n",
       "      <td>0.542857</td>\n",
       "      <td>1.000000</td>\n",
       "    </tr>\n",
       "    <tr>\n",
       "      <th>14</th>\n",
       "      <td>2.10001</td>\n",
       "      <td>0.959114</td>\n",
       "      <td>0.942652</td>\n",
       "      <td>0.542857</td>\n",
       "      <td>1.000000</td>\n",
       "    </tr>\n",
       "    <tr>\n",
       "      <th>15</th>\n",
       "      <td>2.25001</td>\n",
       "      <td>0.956721</td>\n",
       "      <td>0.940860</td>\n",
       "      <td>0.528571</td>\n",
       "      <td>1.000000</td>\n",
       "    </tr>\n",
       "    <tr>\n",
       "      <th>16</th>\n",
       "      <td>2.40001</td>\n",
       "      <td>0.953331</td>\n",
       "      <td>0.939068</td>\n",
       "      <td>0.514286</td>\n",
       "      <td>1.000000</td>\n",
       "    </tr>\n",
       "    <tr>\n",
       "      <th>17</th>\n",
       "      <td>2.55001</td>\n",
       "      <td>0.950937</td>\n",
       "      <td>0.937276</td>\n",
       "      <td>0.500000</td>\n",
       "      <td>1.000000</td>\n",
       "    </tr>\n",
       "    <tr>\n",
       "      <th>18</th>\n",
       "      <td>2.70001</td>\n",
       "      <td>0.948544</td>\n",
       "      <td>0.933692</td>\n",
       "      <td>0.471429</td>\n",
       "      <td>1.000000</td>\n",
       "    </tr>\n",
       "    <tr>\n",
       "      <th>19</th>\n",
       "      <td>2.85001</td>\n",
       "      <td>0.945154</td>\n",
       "      <td>0.928315</td>\n",
       "      <td>0.428571</td>\n",
       "      <td>1.000000</td>\n",
       "    </tr>\n",
       "  </tbody>\n",
       "</table>\n",
       "</div>"
      ],
      "text/plain": [
       "      alpha  Train Accuracy  Test Accuracy  Test Recall  Test Precision\n",
       "0   0.00001        0.998803       0.971326     0.900000        0.875000\n",
       "1   0.15001        0.997806       0.982079     0.942857        0.916667\n",
       "2   0.30001        0.995812       0.983871     0.914286        0.955224\n",
       "3   0.45001        0.993817       0.982079     0.885714        0.968750\n",
       "4   0.60001        0.991823       0.974910     0.828571        0.966667\n",
       "5   0.75001        0.987435       0.973118     0.800000        0.982456\n",
       "6   0.90001        0.983646       0.967742     0.757143        0.981481\n",
       "7   1.05001        0.981651       0.962366     0.714286        0.980392\n",
       "8   1.20001        0.980056       0.962366     0.700000        1.000000\n",
       "9   1.35001        0.977862       0.956989     0.657143        1.000000\n",
       "10  1.50001        0.974471       0.953405     0.628571        1.000000\n",
       "11  1.65001        0.969087       0.949821     0.600000        1.000000\n",
       "12  1.80001        0.964898       0.946237     0.571429        1.000000\n",
       "13  1.95001        0.961508       0.942652     0.542857        1.000000\n",
       "14  2.10001        0.959114       0.942652     0.542857        1.000000\n",
       "15  2.25001        0.956721       0.940860     0.528571        1.000000\n",
       "16  2.40001        0.953331       0.939068     0.514286        1.000000\n",
       "17  2.55001        0.950937       0.937276     0.500000        1.000000\n",
       "18  2.70001        0.948544       0.933692     0.471429        1.000000\n",
       "19  2.85001        0.945154       0.928315     0.428571        1.000000"
      ]
     },
     "execution_count": 55,
     "metadata": {},
     "output_type": "execute_result"
    }
   ],
   "source": [
    "matrix = np.matrix(np.c_[list_alpha, trainaccuricies,testaccuricies, recall_test, precision_test])\n",
    "models = pd.DataFrame(data = matrix, columns = \n",
    "             ['alpha', 'Train Accuracy', 'Test Accuracy', 'Test Recall', 'Test Precision'])\n",
    "models.head(n=20)"
   ]
  },
  {
   "cell_type": "markdown",
   "metadata": {},
   "source": [
    "Now let us select the row with best Test Precision Score"
   ]
  },
  {
   "cell_type": "code",
   "execution_count": 57,
   "metadata": {},
   "outputs": [
    {
     "data": {
      "text/plain": [
       "alpha             1.200010\n",
       "Train Accuracy    0.980056\n",
       "Test Accuracy     0.962366\n",
       "Test Recall       0.700000\n",
       "Test Precision    1.000000\n",
       "Name: 8, dtype: float64"
      ]
     },
     "execution_count": 57,
     "metadata": {},
     "output_type": "execute_result"
    }
   ],
   "source": [
    "best_index = models['Test Precision'].idxmax()\n",
    "models.iloc[best_index, :]"
   ]
  },
  {
   "cell_type": "markdown",
   "metadata": {},
   "source": [
    "What if there are more than 1 row with highest precision"
   ]
  },
  {
   "cell_type": "code",
   "execution_count": 58,
   "metadata": {},
   "outputs": [
    {
     "data": {
      "text/html": [
       "<div>\n",
       "<style scoped>\n",
       "    .dataframe tbody tr th:only-of-type {\n",
       "        vertical-align: middle;\n",
       "    }\n",
       "\n",
       "    .dataframe tbody tr th {\n",
       "        vertical-align: top;\n",
       "    }\n",
       "\n",
       "    .dataframe thead th {\n",
       "        text-align: right;\n",
       "    }\n",
       "</style>\n",
       "<table border=\"1\" class=\"dataframe\">\n",
       "  <thead>\n",
       "    <tr style=\"text-align: right;\">\n",
       "      <th></th>\n",
       "      <th>alpha</th>\n",
       "      <th>Train Accuracy</th>\n",
       "      <th>Test Accuracy</th>\n",
       "      <th>Test Recall</th>\n",
       "      <th>Test Precision</th>\n",
       "    </tr>\n",
       "  </thead>\n",
       "  <tbody>\n",
       "    <tr>\n",
       "      <th>8</th>\n",
       "      <td>1.20001</td>\n",
       "      <td>0.980056</td>\n",
       "      <td>0.962366</td>\n",
       "      <td>0.700000</td>\n",
       "      <td>1.0</td>\n",
       "    </tr>\n",
       "    <tr>\n",
       "      <th>9</th>\n",
       "      <td>1.35001</td>\n",
       "      <td>0.977862</td>\n",
       "      <td>0.956989</td>\n",
       "      <td>0.657143</td>\n",
       "      <td>1.0</td>\n",
       "    </tr>\n",
       "    <tr>\n",
       "      <th>10</th>\n",
       "      <td>1.50001</td>\n",
       "      <td>0.974471</td>\n",
       "      <td>0.953405</td>\n",
       "      <td>0.628571</td>\n",
       "      <td>1.0</td>\n",
       "    </tr>\n",
       "    <tr>\n",
       "      <th>11</th>\n",
       "      <td>1.65001</td>\n",
       "      <td>0.969087</td>\n",
       "      <td>0.949821</td>\n",
       "      <td>0.600000</td>\n",
       "      <td>1.0</td>\n",
       "    </tr>\n",
       "    <tr>\n",
       "      <th>12</th>\n",
       "      <td>1.80001</td>\n",
       "      <td>0.964898</td>\n",
       "      <td>0.946237</td>\n",
       "      <td>0.571429</td>\n",
       "      <td>1.0</td>\n",
       "    </tr>\n",
       "  </tbody>\n",
       "</table>\n",
       "</div>"
      ],
      "text/plain": [
       "      alpha  Train Accuracy  Test Accuracy  Test Recall  Test Precision\n",
       "8   1.20001        0.980056       0.962366     0.700000             1.0\n",
       "9   1.35001        0.977862       0.956989     0.657143             1.0\n",
       "10  1.50001        0.974471       0.953405     0.628571             1.0\n",
       "11  1.65001        0.969087       0.949821     0.600000             1.0\n",
       "12  1.80001        0.964898       0.946237     0.571429             1.0"
      ]
     },
     "execution_count": 58,
     "metadata": {},
     "output_type": "execute_result"
    }
   ],
   "source": [
    "models[models['Test Precision']==1].head(n=5)##we have such rows"
   ]
  },
  {
   "cell_type": "markdown",
   "metadata": {},
   "source": [
    "Between these models with the highest possible precision, we are going to select which has more test accuracy."
   ]
  },
  {
   "cell_type": "code",
   "execution_count": 60,
   "metadata": {},
   "outputs": [
    {
     "data": {
      "text/plain": [
       "alpha             1.200010\n",
       "Train Accuracy    0.980056\n",
       "Test Accuracy     0.962366\n",
       "Test Recall       0.700000\n",
       "Test Precision    1.000000\n",
       "Name: 8, dtype: float64"
      ]
     },
     "execution_count": 60,
     "metadata": {},
     "output_type": "execute_result"
    }
   ],
   "source": [
    "best_index = models[models['Test Precision']==1]['Test Accuracy'].idxmax()\n",
    "models.iloc[best_index, :]"
   ]
  },
  {
   "cell_type": "markdown",
   "metadata": {},
   "source": [
    "So finally now we have best alpha value,lets fit it in our model"
   ]
  },
  {
   "cell_type": "code",
   "execution_count": 75,
   "metadata": {},
   "outputs": [
    {
     "data": {
      "text/plain": [
       "98.00558436378142"
      ]
     },
     "execution_count": 75,
     "metadata": {},
     "output_type": "execute_result"
    }
   ],
   "source": [
    "bayes = naive_bayes.MultinomialNB(alpha=list_alpha[best_index])\n",
    "bayes.fit(trainX, trainY)\n",
    "bayes.score(trainX,trainY)*100     ##direct method\n",
    "# pred_y=bayes.predict(testX)\n",
    "# acc=metrics.accuracy_score(testY,pred_y)\n",
    "# acc*100"
   ]
  },
  {
   "cell_type": "markdown",
   "metadata": {},
   "source": [
    "Confusion matrix with naive bayes classifier"
   ]
  },
  {
   "cell_type": "code",
   "execution_count": 81,
   "metadata": {},
   "outputs": [
    {
     "data": {
      "text/html": [
       "<div>\n",
       "<style scoped>\n",
       "    .dataframe tbody tr th:only-of-type {\n",
       "        vertical-align: middle;\n",
       "    }\n",
       "\n",
       "    .dataframe tbody tr th {\n",
       "        vertical-align: top;\n",
       "    }\n",
       "\n",
       "    .dataframe thead th {\n",
       "        text-align: right;\n",
       "    }\n",
       "</style>\n",
       "<table border=\"1\" class=\"dataframe\">\n",
       "  <thead>\n",
       "    <tr style=\"text-align: right;\">\n",
       "      <th></th>\n",
       "      <th>Predicted Ham</th>\n",
       "      <th>Predicted Spam</th>\n",
       "    </tr>\n",
       "  </thead>\n",
       "  <tbody>\n",
       "    <tr>\n",
       "      <th>Actual Ham</th>\n",
       "      <td>4337</td>\n",
       "      <td>0</td>\n",
       "    </tr>\n",
       "    <tr>\n",
       "      <th>Actual Spam</th>\n",
       "      <td>100</td>\n",
       "      <td>577</td>\n",
       "    </tr>\n",
       "  </tbody>\n",
       "</table>\n",
       "</div>"
      ],
      "text/plain": [
       "             Predicted Ham  Predicted Spam\n",
       "Actual Ham            4337               0\n",
       "Actual Spam            100             577"
      ]
     },
     "execution_count": 81,
     "metadata": {},
     "output_type": "execute_result"
    }
   ],
   "source": [
    "m_confusion_test = metrics.confusion_matrix(trainY, bayes.predict(trainX))\n",
    "pd.DataFrame(data = m_confusion_test, columns = ['Predicted Ham', 'Predicted Spam'],index = ['Actual Ham', 'Actual Spam'])"
   ]
  },
  {
   "cell_type": "markdown",
   "metadata": {},
   "source": [
    "Finalize Model"
   ]
  },
  {
   "cell_type": "code",
   "execution_count": 83,
   "metadata": {},
   "outputs": [],
   "source": [
    "\n",
    "from _pickle import dump\n",
    "filename = 'finalized_model.sav'\n",
    "dump(bayes, open(filename, 'wb'))"
   ]
  },
  {
   "cell_type": "code",
   "execution_count": null,
   "metadata": {},
   "outputs": [],
   "source": []
  }
 ],
 "metadata": {
  "kernelspec": {
   "display_name": "Python 3",
   "language": "python",
   "name": "python3"
  },
  "language_info": {
   "codemirror_mode": {
    "name": "ipython",
    "version": 3
   },
   "file_extension": ".py",
   "mimetype": "text/x-python",
   "name": "python",
   "nbconvert_exporter": "python",
   "pygments_lexer": "ipython3",
   "version": "3.7.3"
  }
 },
 "nbformat": 4,
 "nbformat_minor": 2
}
